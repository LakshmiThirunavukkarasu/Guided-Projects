{
 "cells": [
  {
   "cell_type": "code",
   "execution_count": 87,
   "id": "1b2e9eae",
   "metadata": {},
   "outputs": [],
   "source": [
    "import itertools\n",
    "import numpy as np\n",
    "from scipy import linalg\n",
    "import matplotlib.pyplot as plt\n",
    "import matplotlib as mpl\n",
    "import pandas as pd\n",
    "\n",
    "from sklearn.preprocessing import StandardScaler\n",
    "from sklearn import mixture"
   ]
  },
  {
   "cell_type": "code",
   "execution_count": 88,
   "id": "bf78bcb0",
   "metadata": {},
   "outputs": [],
   "source": [
    "df = pd.read_csv('Clustering_gmm.csv')\n",
    "X = StandardScaler().fit_transform(df)\n",
    "#X =df.values"
   ]
  },
  {
   "cell_type": "code",
   "execution_count": 89,
   "id": "c0c78520",
   "metadata": {},
   "outputs": [
    {
     "data": {
      "image/png": "[encoded data removed]",
      "text/plain": [
       "<Figure size 432x288 with 1 Axes>"
      ]
     },
     "metadata": {
      "needs_background": "light"
     },
     "output_type": "display_data"
    }
   ],
   "source": [
    "plt.scatter( X[:, 0],X[:, 1])\n",
    "plt.show()"
   ]
  },
  {
   "cell_type": "code",
   "execution_count": 90,
   "id": "9183c1be",
   "metadata": {},
   "outputs": [
    {
     "data": {
      "image/png": "[encoded data removed]",
      "text/plain": [
       "<Figure size 432x288 with 1 Axes>"
      ]
     },
     "metadata": {
      "needs_background": "light"
     },
     "output_type": "display_data"
    }
   ],
   "source": [
    "kwargs = dict(histtype='stepfilled', alpha=0.3, density=True, bins=60)\n",
    "plt.hist( np.array(X[:, 0]), **kwargs)\n",
    "plt.hist(np.array(X[:, 1]), **kwargs)\n",
    "plt.show()\n",
    "#plt.hist(x3, **kwargs);\n",
    "#plt.hist(X, stacked = True)"
   ]
  },
  {
   "cell_type": "code",
   "execution_count": 91,
   "id": "7331f469",
   "metadata": {},
   "outputs": [],
   "source": [
    "#### Fit a Gaussian mixture with EM using ten components\n",
    "gmm = mixture.GaussianMixture(\n",
    "    n_components=4, covariance_type=\"full\", max_iter=100\n",
    ").fit(X)"
   ]
  },
  {
   "cell_type": "code",
   "execution_count": 92,
   "id": "1a004c5b",
   "metadata": {},
   "outputs": [],
   "source": [
    "def plot_results(X, Y, means, covariances, index, title):\n",
    "    splot = plt.subplot(5, 1, 1 + index)\n",
    "    #splot.set_figheight(15)\n",
    "    #splot.set_figwidth(15)\n",
    "    #plt.figure(figsize=(5,5))\n",
    "    for i, (mean, covar, color) in enumerate(zip(means, covariances, color_iter)):\n",
    "        v, w = linalg.eigh(covar)\n",
    "        v = 2.0 * np.sqrt(2.0) * np.sqrt(v)\n",
    "        u = w[0] / linalg.norm(w[0])\n",
    "        # as the DP will not use every component it has access to\n",
    "        # unless it needs it, we shouldn't plot the redundant\n",
    "        # components.\n",
    "        if not np.any(Y == i):\n",
    "            continue\n",
    "        plt.scatter(X[Y == i, 0], X[Y == i, 1], 0.8, color=color)\n",
    "\n",
    "        # Plot an ellipse to show the Gaussian component\n",
    "        angle = np.arctan(u[1] / u[0])\n",
    "        angle = 180.0 * angle / np.pi  # convert to degrees\n",
    "        ell = mpl.patches.Ellipse(mean, v[0], v[1], 180.0 + angle, color=color)\n",
    "        ell.set_clip_box(splot.bbox)\n",
    "        ell.set_alpha(0.5)\n",
    "        splot.add_artist(ell)\n",
    "\n",
    "   \n",
    "    plt.xlim(-6.0, 4.0 * np.pi - 6.0)\n",
    "    plt.ylim(-5.0, 5.0)\n",
    "    plt.title(title)\n",
    "    plt.xticks(())\n",
    "    plt.yticks(())"
   ]
  },
  {
   "cell_type": "code",
   "execution_count": 93,
   "id": "25a3fa57",
   "metadata": {},
   "outputs": [],
   "source": [
    "def plot_samples(X, Y, n_components, index, title):\n",
    "    plt.subplot(5, 1, 4 + index)\n",
    "    for i, color in zip(range(n_components), color_iter):\n",
    "        # as the DP will not use every component it has access to\n",
    "        # unless it needs it, we shouldn't plot the redundant\n",
    "        # components.\n",
    "        if not np.any(Y == i):\n",
    "            continue\n",
    "        plt.scatter(X[Y == i, 0], X[Y == i, 1], 0.8, color=color)\n",
    "\n",
    "    plt.xlim(-6.0, 4.0 * np.pi - 6.0)\n",
    "    plt.ylim(-5.0, 5.0)\n",
    "    plt.title(title)\n",
    "    plt.xticks(())\n",
    "    plt.yticks(())\n"
   ]
  },
  {
   "cell_type": "code",
   "execution_count": 94,
   "id": "60de8e26",
   "metadata": {},
   "outputs": [
    {
     "data": {
      "image/png": "[encoded data removed]",
      "text/plain": [
       "<Figure size 432x288 with 1 Axes>"
      ]
     },
     "metadata": {},
     "output_type": "display_data"
    }
   ],
   "source": [
    "color_iter = itertools.cycle([\"navy\", \"c\", \"cornflowerblue\", \"gold\", \"darkorange\"])\n",
    "\n",
    "\n",
    "plot_results(\n",
    "    X, gmm.predict(X), gmm.means_, gmm.covariances_, 0, \"Expectation-maximization\"\n",
    ")"
   ]
  },
  {
   "cell_type": "code",
   "execution_count": 95,
   "id": "7214e0f3",
   "metadata": {},
   "outputs": [],
   "source": [
    "import numpy as np\n",
    "from scipy.stats import multivariate_normal\n",
    "\n",
    "class GMM:\n",
    "    def __init__(self, k, max_iter=5):\n",
    "        self.k = k\n",
    "        self.max_iter = int(max_iter)\n",
    "\n",
    "    def initialize(self, X):\n",
    "        self.shape = X.shape\n",
    "        self.n, self.m = self.shape\n",
    "\n",
    "        self.phi = np.full(shape=self.k, fill_value=1/self.k)\n",
    "        self.weights = np.full( shape=self.shape, fill_value=1/self.k)\n",
    "        \n",
    "        random_row = np.random.randint(low=0, high=self.n, size=self.k)\n",
    "        self.mu = [  X[row_index,:] for row_index in random_row ]\n",
    "        self.sigma = [ np.cov(X.T) for _ in range(self.k) ]\n",
    "\n",
    "    def e_step(self, X):\n",
    "        # E-Step: update weights and phi holding mu and sigma constant\n",
    "        self.weights = self.predict_proba(X)\n",
    "        self.phi = self.weights.mean(axis=0)\n",
    "    \n",
    "    def m_step(self, X):\n",
    "        # M-Step: update mu and sigma holding phi and weights constant\n",
    "        for i in range(self.k):\n",
    "            weight = self.weights[:, [i]]\n",
    "            total_weight = weight.sum()\n",
    "            self.mu[i] = (X * weight).sum(axis=0) / total_weight\n",
    "            self.sigma[i] = np.cov(X.T, \n",
    "                aweights=(weight/total_weight).flatten(), \n",
    "                bias=True)\n",
    "\n",
    "    def fit(self, X):\n",
    "        self.initialize(X)\n",
    "        \n",
    "        for iteration in range(self.max_iter):\n",
    "            self.e_step(X)\n",
    "            self.m_step(X)\n",
    "            \n",
    "    def predict_proba(self, X):\n",
    "        likelihood = np.zeros( (self.n, self.k) )\n",
    "        for i in range(self.k):\n",
    "            distribution = multivariate_normal(\n",
    "                mean=self.mu[i], \n",
    "                cov=self.sigma[i])\n",
    "            likelihood[:,i] = distribution.pdf(X)\n",
    "        \n",
    "        numerator = likelihood * self.phi\n",
    "        denominator = numerator.sum(axis=1)[:, np.newaxis]\n",
    "        weights = numerator / denominator\n",
    "        return weights\n",
    "    \n",
    "    def predict(self, X):\n",
    "        weights = self.predict_proba(X)\n",
    "        return np.argmax(weights, axis=1)"
   ]
  },
  {
   "cell_type": "code",
   "execution_count": 2,
   "id": "7c9fe567",
   "metadata": {},
   "outputs": [
    {
     "name": "stdout",
     "output_type": "stream",
     "text": [
      "(500, 2)\n"
     ]
    }
   ],
   "source": [
    "from sklearn.datasets import make_blobs\n",
    "import numpy as np\n",
    "from scipy.stats import multivariate_normal\n",
    "\n",
    "\n",
    "# 0. Create dataset\n",
    "X,Y = make_blobs(cluster_std=1.5,random_state=20,n_samples=500,centers=3)\n",
    "\n",
    "# Stratch dataset to get ellipsoid data\n",
    "X = np.dot(X,np.random.RandomState(0).randn(2,2))\n",
    "\n",
    "print(X.shape)"
   ]
  },
  {
   "cell_type": "code",
   "execution_count": null,
   "id": "2a80dc7c",
   "metadata": {},
   "outputs": [],
   "source": [
    "plt.scatter(data =df,x='Weight', y = 'Height',hue = 'Label')"
   ]
  },
  {
   "cell_type": "code",
   "execution_count": 3,
   "id": "caaa99c4",
   "metadata": {},
   "outputs": [
    {
     "ename": "NameError",
     "evalue": "name 'GMM' is not defined",
     "output_type": "error",
     "traceback": [
      "\u001b[1;31m---------------------------------------------------------------------------\u001b[0m",
      "\u001b[1;31mNameError\u001b[0m                                 Traceback (most recent call last)",
      "\u001b[1;32m~\\AppData\\Local\\Temp/ipykernel_852/4202985398.py\u001b[0m in \u001b[0;36m<module>\u001b[1;34m\u001b[0m\n\u001b[1;32m----> 1\u001b[1;33m \u001b[0mgmm\u001b[0m \u001b[1;33m=\u001b[0m \u001b[0mGMM\u001b[0m\u001b[1;33m(\u001b[0m\u001b[0mk\u001b[0m\u001b[1;33m=\u001b[0m\u001b[1;36m4\u001b[0m\u001b[1;33m,\u001b[0m \u001b[0mmax_iter\u001b[0m\u001b[1;33m=\u001b[0m\u001b[1;36m10\u001b[0m\u001b[1;33m)\u001b[0m\u001b[1;33m\u001b[0m\u001b[1;33m\u001b[0m\u001b[0m\n\u001b[0m\u001b[0;32m      2\u001b[0m \u001b[0mgmm\u001b[0m\u001b[1;33m.\u001b[0m\u001b[0mfit\u001b[0m\u001b[1;33m(\u001b[0m\u001b[0mX\u001b[0m\u001b[1;33m)\u001b[0m\u001b[1;33m\u001b[0m\u001b[1;33m\u001b[0m\u001b[0m\n\u001b[0;32m      3\u001b[0m \u001b[0mpredicted_label\u001b[0m \u001b[1;33m=\u001b[0m \u001b[0mgmm\u001b[0m\u001b[1;33m.\u001b[0m\u001b[0mpredict\u001b[0m\u001b[1;33m(\u001b[0m\u001b[0mX\u001b[0m\u001b[1;33m)\u001b[0m\u001b[1;33m\u001b[0m\u001b[1;33m\u001b[0m\u001b[0m\n",
      "\u001b[1;31mNameError\u001b[0m: name 'GMM' is not defined"
     ]
    }
   ],
   "source": [
    "gmm = GMM(k=4, max_iter=10)\n",
    "gmm.fit(X)\n",
    "predicted_label = gmm.predict(X)"
   ]
  },
  {
   "cell_type": "code",
   "execution_count": 101,
   "id": "7aa6fd7b",
   "metadata": {},
   "outputs": [
    {
     "name": "stdout",
     "output_type": "stream",
     "text": [
      "[2 2 1 1 2 3 3 1 2 0 3 2 3 0 1 1 2 1 0 1 1 2 3 0 1 0 2 3 0 3 3 3 2 3 3 2 0\n",
      " 2 0 2 0 1 1 2 3 2 2 1 2 2 0 0 3 2 1 3 3 0 0 2 2 0 2 2 2 3 1 2 1 3 0 1 0 2\n",
      " 0 2 3 3 1 1 0 1 0 2 1 3 0 0 2 0 0 0 2 0 1 1 2 2 2 1 0 0 2 0 1 1 3 2 1 0 0\n",
      " 3 0 0 2 0 2 1 3 2 2 0 2 2 0 2 2 2 2 0 1 0 3 0 0 0 1 2 1 3 2 2 2 2 3 0 1 1\n",
      " 3 0 0 2 1 1 1 3 3 2 3 1 2 1 2 2 3 3 2 1 0 3 2 0 2 3 2 0 2 0 0 0 2 2 2 1 3\n",
      " 0 3 2 3 0 2 3 0 3 3 0 1 3 1 0 0 1 3 3 1 3 3 1 3 3 3 2 2 2 1 2 3 0 0 0 2 2\n",
      " 3 0 3 2 0 1 0 3 3 3 3 3 0 2 1 3 0 2 2 3 3 2 0 0 1 2 1 1 1 3 2 0 1 0 0 3 0\n",
      " 3 1 0 2 0 2 2 1 1 0 2 1 0 2 3 2 0 3 3 1 2 2 1 2 3 2 3 3 2 1 1 1 2 0 0 2 0\n",
      " 0 0 1 2 2 0 2 0 2 2 3 0 0 1 0 2 2 2 0 3 0 3 3 1 1 1 3 3 0 2 1 3 0 2 1 1 2\n",
      " 2 3 2 3 3 1 3 0 2 2 2 2 0 2 2 2 2 1 2 1 2 1 1 0 2 1 0 0 3 1 2 2 3 3 2 3 0\n",
      " 1 1 1 0 1 3 1 0 0 1 0 0 3 0 0 3 3 3 3 0 0 0 0 2 0 2 1 2 0 1 2 1 2 1 3 3 0\n",
      " 1 0 3 2 2 0 3 1 2 0 3 3 1 2 1 2 3 2 2 2 0 3 2 0 2 1 3 2 3 2 0 1 1 3 2 2 1\n",
      " 1 3 1 3 0 2 3 2 0 3 3 3 0 3 1 0 3 3 3 3 3 1 0 2 3 2 1 2 3 0 1 0 3 0 1 0 1\n",
      " 3 3 0 3 3 3 0 2 3 3 0 2 3 3 1 2 0 0 1]\n"
     ]
    }
   ],
   "source": [
    "print(predicted_label)"
   ]
  },
  {
   "cell_type": "code",
   "execution_count": 115,
   "id": "c869d545",
   "metadata": {},
   "outputs": [
    {
     "data": {
      "text/plain": [
       "(500, 3)"
      ]
     },
     "execution_count": 115,
     "metadata": {},
     "output_type": "execute_result"
    }
   ],
   "source": [
    "df = pd.DataFrame(columns=['Weight','Height','Label'])\n",
    "df['Weight'] =X[:,0]\n",
    "df['Height'] =X[:,1]\n",
    "df['Label'] =predicted_label\n",
    "df.shape"
   ]
  },
  {
   "cell_type": "code",
   "execution_count": 116,
   "id": "953a2bf6",
   "metadata": {},
   "outputs": [
    {
     "data": {
      "text/plain": [
       "<AxesSubplot:xlabel='Weight', ylabel='Height'>"
      ]
     },
     "execution_count": 116,
     "metadata": {},
     "output_type": "execute_result"
    },
    {
     "data": {
      "image/png": "[encoded data removed]",
      "text/plain": [
       "<Figure size 432x288 with 1 Axes>"
      ]
     },
     "metadata": {
      "needs_background": "light"
     },
     "output_type": "display_data"
    }
   ],
   "source": [
    "import seaborn as sns\n",
    "sns.scatterplot(data =df,x='Weight', y = 'Height',hue = 'Label')\n",
    "#plt.scatter(X[:,0],X[:,1]s= predicted_label)"
   ]
  },
  {
   "cell_type": "code",
   "execution_count": null,
   "id": "e1df5509",
   "metadata": {},
   "outputs": [],
   "source": []
  }
 ],
 "metadata": {
  "kernelspec": {
   "display_name": "Python 3 (ipykernel)",
   "language": "python",
   "name": "python3"
  },
  "language_info": {
   "codemirror_mode": {
    "name": "ipython",
    "version": 3
   },
   "file_extension": ".py",
   "mimetype": "text/x-python",
   "name": "python",
   "nbconvert_exporter": "python",
   "pygments_lexer": "ipython3",
   "version": "3.9.7"
  }
 },
 "nbformat": 4,
 "nbformat_minor": 5
}
