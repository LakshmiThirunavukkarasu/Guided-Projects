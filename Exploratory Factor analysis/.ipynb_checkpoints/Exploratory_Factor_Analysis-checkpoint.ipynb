{
 "cells": [
  {
   "cell_type": "markdown",
   "metadata": {},
   "source": [
    "# Exploratory Factor Analysis\n"
   ]
  },
  {
   "cell_type": "code",
   "execution_count": 15,
   "metadata": {},
   "outputs": [],
   "source": [
    "# Importing the Necessary Libraries\n",
    "import numpy as np\n",
    "import matplotlib.pyplot as plt\n",
    "import pandas as pd\n",
    "import seaborn as sns"
   ]
  },
  {
   "cell_type": "markdown",
   "metadata": {},
   "source": [
    "### Generate the dataframe from the excel file"
   ]
  },
  {
   "cell_type": "code",
   "execution_count": 16,
   "metadata": {},
   "outputs": [
    {
     "data": {
      "text/html": [
       "<div>\n",
       "<style scoped>\n",
       "    .dataframe tbody tr th:only-of-type {\n",
       "        vertical-align: middle;\n",
       "    }\n",
       "\n",
       "    .dataframe tbody tr th {\n",
       "        vertical-align: top;\n",
       "    }\n",
       "\n",
       "    .dataframe thead th {\n",
       "        text-align: right;\n",
       "    }\n",
       "</style>\n",
       "<table border=\"1\" class=\"dataframe\">\n",
       "  <thead>\n",
       "    <tr style=\"text-align: right;\">\n",
       "      <th></th>\n",
       "      <th>Unnamed: 0</th>\n",
       "      <th>id</th>\n",
       "      <th>Gender</th>\n",
       "      <th>Customer Type</th>\n",
       "      <th>Age</th>\n",
       "      <th>Type of Travel</th>\n",
       "      <th>Class</th>\n",
       "      <th>Flight Distance</th>\n",
       "      <th>Inflight wifi service</th>\n",
       "      <th>Departure/Arrival time convenient</th>\n",
       "      <th>...</th>\n",
       "      <th>Inflight entertainment</th>\n",
       "      <th>On-board service</th>\n",
       "      <th>Leg room service</th>\n",
       "      <th>Baggage handling</th>\n",
       "      <th>Checkin service</th>\n",
       "      <th>Inflight service</th>\n",
       "      <th>Cleanliness</th>\n",
       "      <th>Departure Delay in Minutes</th>\n",
       "      <th>Arrival Delay in Minutes</th>\n",
       "      <th>satisfaction</th>\n",
       "    </tr>\n",
       "  </thead>\n",
       "  <tbody>\n",
       "    <tr>\n",
       "      <th>0</th>\n",
       "      <td>0</td>\n",
       "      <td>70172</td>\n",
       "      <td>Male</td>\n",
       "      <td>Loyal Customer</td>\n",
       "      <td>13</td>\n",
       "      <td>Personal Travel</td>\n",
       "      <td>Eco Plus</td>\n",
       "      <td>460</td>\n",
       "      <td>3</td>\n",
       "      <td>4</td>\n",
       "      <td>...</td>\n",
       "      <td>5</td>\n",
       "      <td>4</td>\n",
       "      <td>3</td>\n",
       "      <td>4</td>\n",
       "      <td>4</td>\n",
       "      <td>5</td>\n",
       "      <td>5</td>\n",
       "      <td>25</td>\n",
       "      <td>18.0</td>\n",
       "      <td>neutral or dissatisfied</td>\n",
       "    </tr>\n",
       "    <tr>\n",
       "      <th>1</th>\n",
       "      <td>1</td>\n",
       "      <td>5047</td>\n",
       "      <td>Male</td>\n",
       "      <td>disloyal Customer</td>\n",
       "      <td>25</td>\n",
       "      <td>Business travel</td>\n",
       "      <td>Business</td>\n",
       "      <td>235</td>\n",
       "      <td>3</td>\n",
       "      <td>2</td>\n",
       "      <td>...</td>\n",
       "      <td>1</td>\n",
       "      <td>1</td>\n",
       "      <td>5</td>\n",
       "      <td>3</td>\n",
       "      <td>1</td>\n",
       "      <td>4</td>\n",
       "      <td>1</td>\n",
       "      <td>1</td>\n",
       "      <td>6.0</td>\n",
       "      <td>neutral or dissatisfied</td>\n",
       "    </tr>\n",
       "    <tr>\n",
       "      <th>2</th>\n",
       "      <td>2</td>\n",
       "      <td>110028</td>\n",
       "      <td>Female</td>\n",
       "      <td>Loyal Customer</td>\n",
       "      <td>26</td>\n",
       "      <td>Business travel</td>\n",
       "      <td>Business</td>\n",
       "      <td>1142</td>\n",
       "      <td>2</td>\n",
       "      <td>2</td>\n",
       "      <td>...</td>\n",
       "      <td>5</td>\n",
       "      <td>4</td>\n",
       "      <td>3</td>\n",
       "      <td>4</td>\n",
       "      <td>4</td>\n",
       "      <td>4</td>\n",
       "      <td>5</td>\n",
       "      <td>0</td>\n",
       "      <td>0.0</td>\n",
       "      <td>satisfied</td>\n",
       "    </tr>\n",
       "    <tr>\n",
       "      <th>3</th>\n",
       "      <td>3</td>\n",
       "      <td>24026</td>\n",
       "      <td>Female</td>\n",
       "      <td>Loyal Customer</td>\n",
       "      <td>25</td>\n",
       "      <td>Business travel</td>\n",
       "      <td>Business</td>\n",
       "      <td>562</td>\n",
       "      <td>2</td>\n",
       "      <td>5</td>\n",
       "      <td>...</td>\n",
       "      <td>2</td>\n",
       "      <td>2</td>\n",
       "      <td>5</td>\n",
       "      <td>3</td>\n",
       "      <td>1</td>\n",
       "      <td>4</td>\n",
       "      <td>2</td>\n",
       "      <td>11</td>\n",
       "      <td>9.0</td>\n",
       "      <td>neutral or dissatisfied</td>\n",
       "    </tr>\n",
       "    <tr>\n",
       "      <th>4</th>\n",
       "      <td>4</td>\n",
       "      <td>119299</td>\n",
       "      <td>Male</td>\n",
       "      <td>Loyal Customer</td>\n",
       "      <td>61</td>\n",
       "      <td>Business travel</td>\n",
       "      <td>Business</td>\n",
       "      <td>214</td>\n",
       "      <td>3</td>\n",
       "      <td>3</td>\n",
       "      <td>...</td>\n",
       "      <td>3</td>\n",
       "      <td>3</td>\n",
       "      <td>4</td>\n",
       "      <td>4</td>\n",
       "      <td>3</td>\n",
       "      <td>3</td>\n",
       "      <td>3</td>\n",
       "      <td>0</td>\n",
       "      <td>0.0</td>\n",
       "      <td>satisfied</td>\n",
       "    </tr>\n",
       "  </tbody>\n",
       "</table>\n",
       "<p>5 rows × 25 columns</p>\n",
       "</div>"
      ],
      "text/plain": [
       "   Unnamed: 0      id  Gender      Customer Type  Age   Type of Travel  \\\n",
       "0           0   70172    Male     Loyal Customer   13  Personal Travel   \n",
       "1           1    5047    Male  disloyal Customer   25  Business travel   \n",
       "2           2  110028  Female     Loyal Customer   26  Business travel   \n",
       "3           3   24026  Female     Loyal Customer   25  Business travel   \n",
       "4           4  119299    Male     Loyal Customer   61  Business travel   \n",
       "\n",
       "      Class  Flight Distance  Inflight wifi service  \\\n",
       "0  Eco Plus              460                      3   \n",
       "1  Business              235                      3   \n",
       "2  Business             1142                      2   \n",
       "3  Business              562                      2   \n",
       "4  Business              214                      3   \n",
       "\n",
       "   Departure/Arrival time convenient  ...  Inflight entertainment  \\\n",
       "0                                  4  ...                       5   \n",
       "1                                  2  ...                       1   \n",
       "2                                  2  ...                       5   \n",
       "3                                  5  ...                       2   \n",
       "4                                  3  ...                       3   \n",
       "\n",
       "   On-board service  Leg room service  Baggage handling  Checkin service  \\\n",
       "0                 4                 3                 4                4   \n",
       "1                 1                 5                 3                1   \n",
       "2                 4                 3                 4                4   \n",
       "3                 2                 5                 3                1   \n",
       "4                 3                 4                 4                3   \n",
       "\n",
       "   Inflight service  Cleanliness  Departure Delay in Minutes  \\\n",
       "0                 5            5                          25   \n",
       "1                 4            1                           1   \n",
       "2                 4            5                           0   \n",
       "3                 4            2                          11   \n",
       "4                 3            3                           0   \n",
       "\n",
       "   Arrival Delay in Minutes             satisfaction  \n",
       "0                      18.0  neutral or dissatisfied  \n",
       "1                       6.0  neutral or dissatisfied  \n",
       "2                       0.0                satisfied  \n",
       "3                       9.0  neutral or dissatisfied  \n",
       "4                       0.0                satisfied  \n",
       "\n",
       "[5 rows x 25 columns]"
      ]
     },
     "execution_count": 16,
     "metadata": {},
     "output_type": "execute_result"
    }
   ],
   "source": [
    "# Importing the dataset\n",
    "df_train = pd.read_csv(\"train.csv\") ## As the dataset is in excel format\n",
    "df_test = pd.read_csv(\"test.csv\") ## As the dataset is in excel format\n",
    "df = pd.concat([df_train,df_test])\n",
    "df.head(5)\n",
    "# We have a total of 99 datapoints and 14 features"
   ]
  },
  {
   "cell_type": "markdown",
   "metadata": {},
   "source": [
    "### Drop the columns that represent the ratings\n"
   ]
  },
  {
   "cell_type": "code",
   "execution_count": 17,
   "metadata": {},
   "outputs": [
    {
     "name": "stdout",
     "output_type": "stream",
     "text": [
      "<class 'pandas.core.frame.DataFrame'>\n",
      "Int64Index: 129880 entries, 0 to 25975\n",
      "Data columns (total 25 columns):\n",
      " #   Column                             Non-Null Count   Dtype  \n",
      "---  ------                             --------------   -----  \n",
      " 0   Unnamed: 0                         129880 non-null  int64  \n",
      " 1   id                                 129880 non-null  int64  \n",
      " 2   Gender                             129880 non-null  object \n",
      " 3   Customer Type                      129880 non-null  object \n",
      " 4   Age                                129880 non-null  int64  \n",
      " 5   Type of Travel                     129880 non-null  object \n",
      " 6   Class                              129880 non-null  object \n",
      " 7   Flight Distance                    129880 non-null  int64  \n",
      " 8   Inflight wifi service              129880 non-null  int64  \n",
      " 9   Departure/Arrival time convenient  129880 non-null  int64  \n",
      " 10  Ease of Online booking             129880 non-null  int64  \n",
      " 11  Gate location                      129880 non-null  int64  \n",
      " 12  Food and drink                     129880 non-null  int64  \n",
      " 13  Online boarding                    129880 non-null  int64  \n",
      " 14  Seat comfort                       129880 non-null  int64  \n",
      " 15  Inflight entertainment             129880 non-null  int64  \n",
      " 16  On-board service                   129880 non-null  int64  \n",
      " 17  Leg room service                   129880 non-null  int64  \n",
      " 18  Baggage handling                   129880 non-null  int64  \n",
      " 19  Checkin service                    129880 non-null  int64  \n",
      " 20  Inflight service                   129880 non-null  int64  \n",
      " 21  Cleanliness                        129880 non-null  int64  \n",
      " 22  Departure Delay in Minutes         129880 non-null  int64  \n",
      " 23  Arrival Delay in Minutes           129487 non-null  float64\n",
      " 24  satisfaction                       129880 non-null  object \n",
      "dtypes: float64(1), int64(19), object(5)\n",
      "memory usage: 25.8+ MB\n"
     ]
    }
   ],
   "source": [
    "df.info()"
   ]
  },
  {
   "cell_type": "code",
   "execution_count": 18,
   "metadata": {},
   "outputs": [],
   "source": [
    "df.drop(columns = ['Unnamed: 0', 'id', 'Gender', 'Customer Type', 'Age',\n",
    "                   'Type of Travel', 'Class', 'Flight Distance', 'Departure Delay in Minutes', \n",
    "                   'Arrival Delay in Minutes','satisfaction'], axis=1,inplace=True)\n"
   ]
  },
  {
   "cell_type": "code",
   "execution_count": 19,
   "metadata": {},
   "outputs": [
    {
     "name": "stdout",
     "output_type": "stream",
     "text": [
      "<class 'pandas.core.frame.DataFrame'>\n",
      "Int64Index: 129880 entries, 0 to 25975\n",
      "Data columns (total 14 columns):\n",
      " #   Column                             Non-Null Count   Dtype\n",
      "---  ------                             --------------   -----\n",
      " 0   Inflight wifi service              129880 non-null  int64\n",
      " 1   Departure/Arrival time convenient  129880 non-null  int64\n",
      " 2   Ease of Online booking             129880 non-null  int64\n",
      " 3   Gate location                      129880 non-null  int64\n",
      " 4   Food and drink                     129880 non-null  int64\n",
      " 5   Online boarding                    129880 non-null  int64\n",
      " 6   Seat comfort                       129880 non-null  int64\n",
      " 7   Inflight entertainment             129880 non-null  int64\n",
      " 8   On-board service                   129880 non-null  int64\n",
      " 9   Leg room service                   129880 non-null  int64\n",
      " 10  Baggage handling                   129880 non-null  int64\n",
      " 11  Checkin service                    129880 non-null  int64\n",
      " 12  Inflight service                   129880 non-null  int64\n",
      " 13  Cleanliness                        129880 non-null  int64\n",
      "dtypes: int64(14)\n",
      "memory usage: 14.9 MB\n"
     ]
    }
   ],
   "source": [
    "df.info()"
   ]
  },
  {
   "cell_type": "markdown",
   "metadata": {},
   "source": [
    "### Zero Center data\n",
    "Find $\\tilde{x}_{n}$ from $x_{n}$"
   ]
  },
  {
   "cell_type": "code",
   "execution_count": 20,
   "metadata": {},
   "outputs": [
    {
     "name": "stdout",
     "output_type": "stream",
     "text": [
      "(14, 129880)\n"
     ]
    }
   ],
   "source": [
    "x = df.values\n",
    "x_mean = np.mean(x,axis=0)\n",
    "x_n = x - np.matrix(x_mean)\n",
    "x_n = x_n.T ## Converts row vectors to column vectors\n",
    "print(x_n.shape)"
   ]
  },
  {
   "cell_type": "markdown",
   "metadata": {},
   "source": [
    "### Generate Covariance Matrix"
   ]
  },
  {
   "cell_type": "code",
   "execution_count": 21,
   "metadata": {},
   "outputs": [],
   "source": [
    "C1 = np.cov(x_n)\n",
    "C2 = np.corrcoef(x_n)## Corr(x,y) = Cov(x,y)/sqrt(Var(x)*Var(y))"
   ]
  },
  {
   "cell_type": "code",
   "execution_count": 22,
   "metadata": {},
   "outputs": [
    {
     "data": {
      "image/png": "[encoded data removed]",
      "text/plain": [
       "<Figure size 1440x1440 with 2 Axes>"
      ]
     },
     "metadata": {
      "needs_background": "light"
     },
     "output_type": "display_data"
    }
   ],
   "source": [
    "plt.figure(figsize=(20,20))\n",
    "ax = sns.heatmap(C2,annot=True,fmt='.1g',cmap='Blues', xticklabels=df.columns, yticklabels=df.columns)"
   ]
  },
  {
   "cell_type": "code",
   "execution_count": 23,
   "metadata": {},
   "outputs": [
    {
     "data": {
      "text/plain": [
       "(129880, 14)"
      ]
     },
     "execution_count": 23,
     "metadata": {},
     "output_type": "execute_result"
    }
   ],
   "source": [
    "df.shape"
   ]
  },
  {
   "cell_type": "markdown",
   "metadata": {},
   "source": [
    "### Extract the eigen vectors and eigen values"
   ]
  },
  {
   "cell_type": "code",
   "execution_count": 24,
   "metadata": {},
   "outputs": [
    {
     "name": "stdout",
     "output_type": "stream",
     "text": [
      "eigen values [6.52802431 4.5024508  3.43870712 1.98341649 1.61700753 1.17688591\n",
      " 1.02248896 0.87827659 0.7491141  0.57986564 0.51473344 0.51140269\n",
      " 0.47659755 0.32711101]\n"
     ]
    }
   ],
   "source": [
    "eig_val,eig_vec = np.linalg.eig(C1)\n",
    "eig_sorted = np.sort(eig_val)[::-1]\n",
    "arg_sort = np.argsort(eig_val)[::-1]\n",
    "print(\"eigen values\", eig_sorted)\n"
   ]
  },
  {
   "cell_type": "markdown",
   "metadata": {},
   "source": [
    "### Plot Scree Plot to identify the factors"
   ]
  },
  {
   "cell_type": "code",
   "execution_count": 25,
   "metadata": {},
   "outputs": [
    {
     "data": {
      "image/png": "[encoded data removed]",
      "text/plain": [
       "<Figure size 432x288 with 1 Axes>"
      ]
     },
     "metadata": {
      "needs_background": "light"
     },
     "output_type": "display_data"
    }
   ],
   "source": [
    "xvals = range(1, df.shape[1]+1)\n",
    "plt.scatter(xvals, eig_sorted)\n",
    "plt.plot(xvals,eig_sorted)\n",
    "plt.title('Scree Plot')\n",
    "plt.xlabel('Factor')\n",
    "plt.ylabel('Eigenvalue')\n",
    "plt.grid()"
   ]
  },
  {
   "cell_type": "markdown",
   "metadata": {},
   "source": [
    "### Build the Vector based on the latent factors (=8)"
   ]
  },
  {
   "cell_type": "code",
   "execution_count": 26,
   "metadata": {},
   "outputs": [],
   "source": [
    "eig_vec_ls = []\n",
    "eig_val_ls = []\n",
    "imp_vec = arg_sort[:8]\n",
    "for i in imp_vec:\n",
    "    eig_vec_ls.append(eig_vec[:,i])\n",
    "    eig_val_ls.append(eig_val[i])\n"
   ]
  },
  {
   "cell_type": "markdown",
   "metadata": {},
   "source": [
    "### Estimate V"
   ]
  },
  {
   "cell_type": "code",
   "execution_count": 28,
   "metadata": {},
   "outputs": [
    {
     "name": "stdout",
     "output_type": "stream",
     "text": [
      "(14, 8)\n"
     ]
    },
    {
     "data": {
      "text/html": [
       "<div>\n",
       "<style scoped>\n",
       "    .dataframe tbody tr th:only-of-type {\n",
       "        vertical-align: middle;\n",
       "    }\n",
       "\n",
       "    .dataframe tbody tr th {\n",
       "        vertical-align: top;\n",
       "    }\n",
       "\n",
       "    .dataframe thead th {\n",
       "        text-align: right;\n",
       "    }\n",
       "</style>\n",
       "<table border=\"1\" class=\"dataframe\">\n",
       "  <thead>\n",
       "    <tr style=\"text-align: right;\">\n",
       "      <th></th>\n",
       "      <th>factor 1</th>\n",
       "      <th>factor 2</th>\n",
       "      <th>factor 3</th>\n",
       "      <th>factor 4</th>\n",
       "      <th>factor 5</th>\n",
       "      <th>factor 6</th>\n",
       "      <th>factor 7</th>\n",
       "      <th>factor 8</th>\n",
       "    </tr>\n",
       "  </thead>\n",
       "  <tbody>\n",
       "    <tr>\n",
       "      <th>Inflight wifi service</th>\n",
       "      <td>0.689384</td>\n",
       "      <td>0.828194</td>\n",
       "      <td>0.099140</td>\n",
       "      <td>0.412571</td>\n",
       "      <td>0.204022</td>\n",
       "      <td>-0.101755</td>\n",
       "      <td>0.078067</td>\n",
       "      <td>0.316042</td>\n",
       "    </tr>\n",
       "    <tr>\n",
       "      <th>Departure/Arrival time convenient</th>\n",
       "      <td>0.389534</td>\n",
       "      <td>1.042700</td>\n",
       "      <td>-0.013594</td>\n",
       "      <td>-0.784840</td>\n",
       "      <td>-0.359971</td>\n",
       "      <td>0.022636</td>\n",
       "      <td>-0.581885</td>\n",
       "      <td>0.032698</td>\n",
       "    </tr>\n",
       "    <tr>\n",
       "      <th>Ease of Online booking</th>\n",
       "      <td>0.551344</td>\n",
       "      <td>1.091577</td>\n",
       "      <td>0.138968</td>\n",
       "      <td>0.334123</td>\n",
       "      <td>0.160325</td>\n",
       "      <td>-0.020311</td>\n",
       "      <td>0.125494</td>\n",
       "      <td>0.150680</td>\n",
       "    </tr>\n",
       "    <tr>\n",
       "      <th>Gate location</th>\n",
       "      <td>0.231332</td>\n",
       "      <td>0.803359</td>\n",
       "      <td>0.121022</td>\n",
       "      <td>-0.487279</td>\n",
       "      <td>0.201293</td>\n",
       "      <td>0.141715</td>\n",
       "      <td>0.622727</td>\n",
       "      <td>-0.433323</td>\n",
       "    </tr>\n",
       "    <tr>\n",
       "      <th>Food and drink</th>\n",
       "      <td>0.824286</td>\n",
       "      <td>-0.430614</td>\n",
       "      <td>0.591387</td>\n",
       "      <td>-0.266576</td>\n",
       "      <td>0.143782</td>\n",
       "      <td>-0.000426</td>\n",
       "      <td>0.054180</td>\n",
       "      <td>0.415640</td>\n",
       "    </tr>\n",
       "    <tr>\n",
       "      <th>Online boarding</th>\n",
       "      <td>0.792463</td>\n",
       "      <td>0.210507</td>\n",
       "      <td>0.269917</td>\n",
       "      <td>0.791865</td>\n",
       "      <td>-0.310834</td>\n",
       "      <td>-0.154171</td>\n",
       "      <td>-0.214128</td>\n",
       "      <td>-0.333463</td>\n",
       "    </tr>\n",
       "    <tr>\n",
       "      <th>Seat comfort</th>\n",
       "      <td>0.909360</td>\n",
       "      <td>-0.421662</td>\n",
       "      <td>0.502034</td>\n",
       "      <td>-0.061431</td>\n",
       "      <td>-0.145308</td>\n",
       "      <td>0.099282</td>\n",
       "      <td>-0.056169</td>\n",
       "      <td>-0.390093</td>\n",
       "    </tr>\n",
       "    <tr>\n",
       "      <th>Inflight entertainment</th>\n",
       "      <td>1.087528</td>\n",
       "      <td>-0.465971</td>\n",
       "      <td>0.007799</td>\n",
       "      <td>-0.196763</td>\n",
       "      <td>0.310877</td>\n",
       "      <td>-0.101633</td>\n",
       "      <td>0.017812</td>\n",
       "      <td>0.038714</td>\n",
       "    </tr>\n",
       "    <tr>\n",
       "      <th>On-board service</th>\n",
       "      <td>0.618314</td>\n",
       "      <td>-0.138001</td>\n",
       "      <td>-0.811886</td>\n",
       "      <td>-0.031417</td>\n",
       "      <td>-0.005999</td>\n",
       "      <td>-0.339467</td>\n",
       "      <td>-0.082608</td>\n",
       "      <td>-0.257760</td>\n",
       "    </tr>\n",
       "    <tr>\n",
       "      <th>Leg room service</th>\n",
       "      <td>0.521587</td>\n",
       "      <td>-0.047984</td>\n",
       "      <td>-0.676170</td>\n",
       "      <td>0.207420</td>\n",
       "      <td>0.314982</td>\n",
       "      <td>0.901248</td>\n",
       "      <td>-0.197776</td>\n",
       "      <td>-0.022391</td>\n",
       "    </tr>\n",
       "    <tr>\n",
       "      <th>Baggage handling</th>\n",
       "      <td>0.516014</td>\n",
       "      <td>-0.094200</td>\n",
       "      <td>-0.784349</td>\n",
       "      <td>-0.094365</td>\n",
       "      <td>0.058797</td>\n",
       "      <td>-0.217957</td>\n",
       "      <td>0.089679</td>\n",
       "      <td>0.089109</td>\n",
       "    </tr>\n",
       "    <tr>\n",
       "      <th>Checkin service</th>\n",
       "      <td>0.412987</td>\n",
       "      <td>-0.096421</td>\n",
       "      <td>-0.308546</td>\n",
       "      <td>0.041055</td>\n",
       "      <td>-1.018392</td>\n",
       "      <td>0.249320</td>\n",
       "      <td>0.400408</td>\n",
       "      <td>0.221626</td>\n",
       "    </tr>\n",
       "    <tr>\n",
       "      <th>Inflight service</th>\n",
       "      <td>0.519607</td>\n",
       "      <td>-0.103764</td>\n",
       "      <td>-0.799827</td>\n",
       "      <td>-0.114106</td>\n",
       "      <td>0.065759</td>\n",
       "      <td>-0.245621</td>\n",
       "      <td>0.086442</td>\n",
       "      <td>0.069578</td>\n",
       "    </tr>\n",
       "    <tr>\n",
       "      <th>Cleanliness</th>\n",
       "      <td>0.930195</td>\n",
       "      <td>-0.466307</td>\n",
       "      <td>0.503539</td>\n",
       "      <td>-0.199814</td>\n",
       "      <td>-0.019393</td>\n",
       "      <td>0.063928</td>\n",
       "      <td>0.015067</td>\n",
       "      <td>0.019597</td>\n",
       "    </tr>\n",
       "  </tbody>\n",
       "</table>\n",
       "</div>"
      ],
      "text/plain": [
       "                                   factor 1  factor 2  factor 3  factor 4  \\\n",
       "Inflight wifi service              0.689384  0.828194  0.099140  0.412571   \n",
       "Departure/Arrival time convenient  0.389534  1.042700 -0.013594 -0.784840   \n",
       "Ease of Online booking             0.551344  1.091577  0.138968  0.334123   \n",
       "Gate location                      0.231332  0.803359  0.121022 -0.487279   \n",
       "Food and drink                     0.824286 -0.430614  0.591387 -0.266576   \n",
       "Online boarding                    0.792463  0.210507  0.269917  0.791865   \n",
       "Seat comfort                       0.909360 -0.421662  0.502034 -0.061431   \n",
       "Inflight entertainment             1.087528 -0.465971  0.007799 -0.196763   \n",
       "On-board service                   0.618314 -0.138001 -0.811886 -0.031417   \n",
       "Leg room service                   0.521587 -0.047984 -0.676170  0.207420   \n",
       "Baggage handling                   0.516014 -0.094200 -0.784349 -0.094365   \n",
       "Checkin service                    0.412987 -0.096421 -0.308546  0.041055   \n",
       "Inflight service                   0.519607 -0.103764 -0.799827 -0.114106   \n",
       "Cleanliness                        0.930195 -0.466307  0.503539 -0.199814   \n",
       "\n",
       "                                   factor 5  factor 6  factor 7  factor 8  \n",
       "Inflight wifi service              0.204022 -0.101755  0.078067  0.316042  \n",
       "Departure/Arrival time convenient -0.359971  0.022636 -0.581885  0.032698  \n",
       "Ease of Online booking             0.160325 -0.020311  0.125494  0.150680  \n",
       "Gate location                      0.201293  0.141715  0.622727 -0.433323  \n",
       "Food and drink                     0.143782 -0.000426  0.054180  0.415640  \n",
       "Online boarding                   -0.310834 -0.154171 -0.214128 -0.333463  \n",
       "Seat comfort                      -0.145308  0.099282 -0.056169 -0.390093  \n",
       "Inflight entertainment             0.310877 -0.101633  0.017812  0.038714  \n",
       "On-board service                  -0.005999 -0.339467 -0.082608 -0.257760  \n",
       "Leg room service                   0.314982  0.901248 -0.197776 -0.022391  \n",
       "Baggage handling                   0.058797 -0.217957  0.089679  0.089109  \n",
       "Checkin service                   -1.018392  0.249320  0.400408  0.221626  \n",
       "Inflight service                   0.065759 -0.245621  0.086442  0.069578  \n",
       "Cleanliness                       -0.019393  0.063928  0.015067  0.019597  "
      ]
     },
     "execution_count": 28,
     "metadata": {},
     "output_type": "execute_result"
    }
   ],
   "source": [
    "eig_val_arr  = np.array(eig_val_ls)\n",
    "lambda_1 = np.diag(eig_val_arr)\n",
    "eig_vec_mat = np.matrix(eig_vec_ls).T\n",
    "V = eig_vec_mat@np.sqrt(lambda_1)\n",
    "print(V.shape)\n",
    "\n",
    "Factor_Loading = pd.DataFrame(np.matrix(V),index = df.columns, columns = ['factor 1','factor 2','factor 3','factor 4','factor 5','factor 6','factor 7','factor 8'])\n",
    "Factor_Loading"
   ]
  },
  {
   "cell_type": "markdown",
   "metadata": {},
   "source": [
    "### Estimate S(additional source)"
   ]
  },
  {
   "cell_type": "code",
   "execution_count": 29,
   "metadata": {},
   "outputs": [
    {
     "name": "stdout",
     "output_type": "stream",
     "text": [
      "(14,)\n",
      "[1.76713159 2.33092162 1.96485879 1.63459997 1.76870835 1.82442716\n",
      " 1.74050976 1.77967299 1.65661199 1.73250539 1.39244727 1.60321295\n",
      " 1.38453945 1.72574773]\n",
      "[[0.26797565 0.         0.         0.         0.         0.\n",
      "  0.         0.         0.         0.         0.         0.\n",
      "  0.         0.        ]\n",
      " [0.         0.00605256 0.         0.         0.         0.\n",
      "  0.         0.         0.         0.         0.         0.\n",
      "  0.         0.        ]\n",
      " [0.         0.         0.27381875 0.         0.         0.\n",
      "  0.         0.         0.         0.         0.         0.\n",
      "  0.         0.        ]\n",
      " [0.         0.         0.         0.04745238 0.         0.\n",
      "  0.         0.         0.         0.         0.         0.\n",
      "  0.         0.        ]\n",
      " [0.         0.         0.         0.         0.28666697 0.\n",
      "  0.         0.         0.         0.         0.         0.\n",
      "  0.         0.        ]\n",
      " [0.         0.         0.         0.         0.         0.17477533\n",
      "  0.         0.         0.         0.         0.         0.\n",
      "  0.         0.        ]\n",
      " [0.         0.         0.         0.         0.         0.\n",
      "  0.29366489 0.         0.         0.         0.         0.\n",
      "  0.         0.        ]\n",
      " [0.         0.         0.         0.         0.         0.\n",
      "  0.         0.2322592  0.         0.         0.         0.\n",
      "  0.         0.        ]\n",
      " [0.         0.         0.         0.         0.         0.\n",
      "  0.         0.         0.406572   0.         0.         0.\n",
      "  0.         0.        ]\n",
      " [0.         0.         0.         0.         0.         0.\n",
      "  0.         0.         0.         0.00684198 0.         0.\n",
      "  0.         0.        ]\n",
      " [0.         0.         0.         0.         0.         0.\n",
      "  0.         0.         0.         0.         0.42625077 0.\n",
      "  0.         0.        ]\n",
      " [0.         0.         0.         0.         0.         0.\n",
      "  0.         0.         0.         0.         0.         0.01774328\n",
      "  0.         0.        ]\n",
      " [0.         0.         0.         0.         0.         0.\n",
      "  0.         0.         0.         0.         0.         0.\n",
      "  0.37407116 0.        ]\n",
      " [0.         0.         0.         0.         0.         0.\n",
      "  0.         0.         0.         0.         0.         0.\n",
      "  0.         0.34449238]]\n"
     ]
    }
   ],
   "source": [
    "var_ls = []\n",
    "x_var = np.var(x_n,axis=1)\n",
    "x_var = np.ravel(x_var)\n",
    "print(x_var.shape)\n",
    "print(x_var)\n",
    "for i in range(V.shape[0]):\n",
    "    s = np.sum(np.square(np.ravel(V[i,:])))\n",
    "    sig_2 = x_var[i] - s\n",
    "    var_ls.append(sig_2)\n",
    "var_ls = np.array(var_ls)\n",
    "S = np.diag(var_ls)\n",
    "print(S)"
   ]
  },
  {
   "cell_type": "markdown",
   "metadata": {},
   "source": [
    "**Dimensionality reduction transformation**"
   ]
  },
  {
   "cell_type": "code",
   "execution_count": 189,
   "metadata": {},
   "outputs": [
    {
     "name": "stdout",
     "output_type": "stream",
     "text": [
      "(8, 14)\n",
      "[[ 1.05603758e-01  5.96709721e-02  8.44579490e-02  3.54367183e-02\n",
      "   1.26268761e-01  1.21394022e-01  1.39300880e-01  1.66593783e-01\n",
      "   9.47168210e-02  7.98996781e-02  7.90459371e-02  6.32636519e-02\n",
      "   7.95963043e-02  1.42492564e-01]\n",
      " [ 1.83942966e-01  2.31585020e-01  2.42440574e-01  1.78427054e-01\n",
      "  -9.56398330e-02  4.67538456e-02 -9.36517565e-02 -1.03492855e-01\n",
      "  -3.06502375e-02 -1.06572939e-02 -2.09218479e-02 -2.14152827e-02\n",
      "  -2.30460166e-02 -1.03567294e-01]\n",
      " [ 2.88307350e-02 -3.95311909e-03  4.04127219e-02  3.51940305e-02\n",
      "   1.71979380e-01  7.84937919e-02  1.45994984e-01  2.26808976e-03\n",
      "  -2.36102025e-01 -1.96635051e-01 -2.28094057e-01 -8.97273379e-02\n",
      "  -2.32595253e-01  1.46432602e-01]\n",
      " [ 2.08010349e-01 -3.95700844e-01  1.68458565e-01 -2.45676506e-01\n",
      "  -1.34402575e-01  3.99243076e-01 -3.09724311e-02 -9.92042154e-02\n",
      "  -1.58399791e-02  1.04577055e-01 -4.75769161e-02  2.06991376e-02\n",
      "  -5.75300186e-02 -1.00742274e-01]\n",
      " [ 1.26172672e-01 -2.22615458e-01  9.91494198e-02  1.24485165e-01\n",
      "   8.89186408e-02 -1.92227977e-01 -8.98625213e-02  1.92254677e-01\n",
      "  -3.71014028e-03  1.94792869e-01  3.63615713e-02 -6.29800673e-01\n",
      "   4.06669270e-02 -1.19929813e-02]\n",
      " [-8.64612800e-02  1.92338773e-02 -1.72586581e-02  1.20415141e-01\n",
      "  -3.62164611e-04 -1.30999021e-01  8.43595942e-02 -8.63577507e-02\n",
      "  -2.88445228e-01  7.65790686e-01 -1.85198440e-01  2.11847604e-01\n",
      "  -2.08703822e-01  5.43196204e-02]\n",
      " [ 7.63500787e-02 -5.69087103e-01  1.22733644e-01  6.09030766e-01\n",
      "   5.29882510e-02 -2.09418821e-01 -5.49333887e-02  1.74204372e-02\n",
      "  -8.07908240e-02 -1.93426204e-01  8.77062238e-02  3.91601195e-01\n",
      "   8.45409735e-02  1.47352049e-02]\n",
      " [ 3.59843856e-01  3.72302378e-02  1.71563666e-01 -4.93379145e-01\n",
      "   4.73244872e-01 -3.79678616e-01 -4.44157552e-01  4.40792705e-02\n",
      "  -2.93484262e-01 -2.54943483e-02  1.01458689e-01  2.52342097e-01\n",
      "   7.92211778e-02  2.23131971e-02]]\n"
     ]
    }
   ],
   "source": [
    "C1_inv = np.linalg.inv(C1)\n",
    "W = V.T@C1_inv\n",
    "print(W.shape)\n",
    "print(W)"
   ]
  },
  {
   "cell_type": "code",
   "execution_count": 190,
   "metadata": {},
   "outputs": [
    {
     "data": {
      "image/png": "[encoded data removed]",
      "text/plain": [
       "<Figure size 432x288 with 1 Axes>"
      ]
     },
     "metadata": {
      "needs_background": "light"
     },
     "output_type": "display_data"
    }
   ],
   "source": [
    "z = W@x_n\n",
    "z1 = z.T\n",
    "plt.scatter(np.ravel(z1[:,0]),np.ravel(z1[:,1]))\n",
    "plt.show()"
   ]
  },
  {
   "cell_type": "code",
   "execution_count": 191,
   "metadata": {},
   "outputs": [
    {
     "data": {
      "text/plain": [
       "(8, 129880)"
      ]
     },
     "execution_count": 191,
     "metadata": {},
     "output_type": "execute_result"
    }
   ],
   "source": [
    "z.shape"
   ]
  },
  {
   "cell_type": "code",
   "execution_count": 192,
   "metadata": {},
   "outputs": [
    {
     "data": {
      "text/plain": [
       "matrix([[ 1.05603758e-01,  5.96709721e-02,  8.44579490e-02,\n",
       "          3.54367183e-02,  1.26268761e-01,  1.21394022e-01,\n",
       "          1.39300880e-01,  1.66593783e-01,  9.47168210e-02,\n",
       "          7.98996781e-02,  7.90459371e-02,  6.32636519e-02,\n",
       "          7.95963043e-02,  1.42492564e-01],\n",
       "        [ 1.83942966e-01,  2.31585020e-01,  2.42440574e-01,\n",
       "          1.78427054e-01, -9.56398330e-02,  4.67538456e-02,\n",
       "         -9.36517565e-02, -1.03492855e-01, -3.06502375e-02,\n",
       "         -1.06572939e-02, -2.09218479e-02, -2.14152827e-02,\n",
       "         -2.30460166e-02, -1.03567294e-01],\n",
       "        [ 2.88307350e-02, -3.95311909e-03,  4.04127219e-02,\n",
       "          3.51940305e-02,  1.71979380e-01,  7.84937919e-02,\n",
       "          1.45994984e-01,  2.26808976e-03, -2.36102025e-01,\n",
       "         -1.96635051e-01, -2.28094057e-01, -8.97273379e-02,\n",
       "         -2.32595253e-01,  1.46432602e-01],\n",
       "        [ 2.08010349e-01, -3.95700844e-01,  1.68458565e-01,\n",
       "         -2.45676506e-01, -1.34402575e-01,  3.99243076e-01,\n",
       "         -3.09724311e-02, -9.92042154e-02, -1.58399791e-02,\n",
       "          1.04577055e-01, -4.75769161e-02,  2.06991376e-02,\n",
       "         -5.75300186e-02, -1.00742274e-01],\n",
       "        [ 1.26172672e-01, -2.22615458e-01,  9.91494198e-02,\n",
       "          1.24485165e-01,  8.89186408e-02, -1.92227977e-01,\n",
       "         -8.98625213e-02,  1.92254677e-01, -3.71014028e-03,\n",
       "          1.94792869e-01,  3.63615713e-02, -6.29800673e-01,\n",
       "          4.06669270e-02, -1.19929813e-02],\n",
       "        [-8.64612800e-02,  1.92338773e-02, -1.72586581e-02,\n",
       "          1.20415141e-01, -3.62164611e-04, -1.30999021e-01,\n",
       "          8.43595942e-02, -8.63577507e-02, -2.88445228e-01,\n",
       "          7.65790686e-01, -1.85198440e-01,  2.11847604e-01,\n",
       "         -2.08703822e-01,  5.43196204e-02],\n",
       "        [ 7.63500787e-02, -5.69087103e-01,  1.22733644e-01,\n",
       "          6.09030766e-01,  5.29882510e-02, -2.09418821e-01,\n",
       "         -5.49333887e-02,  1.74204372e-02, -8.07908240e-02,\n",
       "         -1.93426204e-01,  8.77062238e-02,  3.91601195e-01,\n",
       "          8.45409735e-02,  1.47352049e-02],\n",
       "        [ 3.59843856e-01,  3.72302378e-02,  1.71563666e-01,\n",
       "         -4.93379145e-01,  4.73244872e-01, -3.79678616e-01,\n",
       "         -4.44157552e-01,  4.40792705e-02, -2.93484262e-01,\n",
       "         -2.54943483e-02,  1.01458689e-01,  2.52342097e-01,\n",
       "          7.92211778e-02,  2.23131971e-02]])"
      ]
     },
     "execution_count": 192,
     "metadata": {},
     "output_type": "execute_result"
    }
   ],
   "source": [
    "W"
   ]
  }
 ],
 "metadata": {
  "kernelspec": {
   "display_name": "Python 3",
   "language": "python",
   "name": "python3"
  },
  "language_info": {
   "codemirror_mode": {
    "name": "ipython",
    "version": 3
   },
   "file_extension": ".py",
   "mimetype": "text/x-python",
   "name": "python",
   "nbconvert_exporter": "python",
   "pygments_lexer": "ipython3",
   "version": "3.7.9"
  }
 },
 "nbformat": 4,
 "nbformat_minor": 4
}
