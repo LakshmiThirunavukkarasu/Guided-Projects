{
 "cells": [
  {
   "cell_type": "code",
   "execution_count": null,
   "id": "f63a2f3e",
   "metadata": {},
   "outputs": [],
   "source": [
    "import numpy as np\n",
    "from sklearn.cluster import MeanShift, estimate_bandwidth\n",
    "from sklearn.datasets import make_blobs\n",
    "%matplotlib inline\n"
   ]
  },
  {
   "cell_type": "code",
   "execution_count": null,
   "id": "a9db9fa7",
   "metadata": {},
   "outputs": [],
   "source": [
    "#Generate sample data\n",
    "centers = [[1,1],[-1,-1],[1,-1]]\n",
    "X, y = make_blobs(n_samples = 10000, centers = centers, cluster_std = 0.6)"
   ]
  },
  {
   "cell_type": "code",
   "execution_count": null,
   "id": "0322b424",
   "metadata": {},
   "outputs": [],
   "source": [
    "#Identify Bandwidth\n",
    "bandwidth = estimate_bandwidth(X, quantile = 0.2)"
   ]
  },
  {
   "cell_type": "code",
   "execution_count": null,
   "id": "6b2d34f8",
   "metadata": {},
   "outputs": [],
   "source": [
    "ms = MeanShift(bandwidth = bandwidth, bin_seeding = True)\n",
    "ms.fit(X)\n",
    "labels = ms.labels_\n",
    "cluster_centers  = ms.cluster_centers_"
   ]
  },
  {
   "cell_type": "code",
   "execution_count": null,
   "id": "3e491828",
   "metadata": {},
   "outputs": [],
   "source": [
    "labels_unique = np.unique(labels)\n",
    "n_clusters= len(labels_unique)\n",
    "\n",
    "print(\"number of estimated clusters: %d\" % n_clusters)\n"
   ]
  },
  {
   "cell_type": "code",
   "execution_count": null,
   "id": "2472c43b",
   "metadata": {},
   "outputs": [],
   "source": [
    "#plot result\n",
    "import matplotlib.pyplot as plt\n",
    "fig,ax = plt.subplots(1,2,figsize=(16,6))\n",
    "ax[0].scatter(X[:,0],X[:,1],s=5,c=y)\n",
    "ax[0].set_title('Original Data Distribution')\n",
    "ax[1].scatter(X[:,0],X[:,1],s=5,c=labels)\n",
    "ax[1].plot(cluster_centers[:,0],cluster_centers[:,1], 'o', markersize=10, c='black')\n",
    "ax[1].set_title('Estimated number of clusters : %d' %n_clusters)\n",
    "plt.show()"
   ]
  },
  {
   "cell_type": "markdown",
   "id": "014b709f",
   "metadata": {},
   "source": [
    "# Image segmentation using Mean-Shift Algorithm"
   ]
  },
  {
   "cell_type": "code",
   "execution_count": null,
   "id": "9f0d5240",
   "metadata": {},
   "outputs": [],
   "source": [
    "import matplotlib.pyplot as plt\n",
    "from PIL import Image"
   ]
  },
  {
   "cell_type": "code",
   "execution_count": null,
   "id": "bdbfb1ba",
   "metadata": {},
   "outputs": [],
   "source": [
    "img = Image.open(\"C:\\\\Users\\\\venka\\\\OneDrive\\\\Desktop\\\\Vending_Machine.jpg\")\n",
    "img = np.array(img)\n",
    "print(img.shape)"
   ]
  },
  {
   "cell_type": "code",
   "execution_count": null,
   "id": "707c5c01",
   "metadata": {},
   "outputs": [],
   "source": [
    "flatten_img = np.reshape(img, [-1,3])\n",
    "print(flatten_img.shape)"
   ]
  },
  {
   "cell_type": "code",
   "execution_count": null,
   "id": "7570a30a",
   "metadata": {},
   "outputs": [],
   "source": [
    "#Identify Bandwidth\n",
    "est_bandwidth = estimate_bandwidth(flatten_img, quantile = 0.2, n_samples = 500)\n",
    "#est_bandwidth = estimate_bandwidth(flatten_img, quantile = 0.5, n_samples = 500)\n"
   ]
  },
  {
   "cell_type": "code",
   "execution_count": null,
   "id": "26bc0342",
   "metadata": {},
   "outputs": [],
   "source": [
    "ms = MeanShift(bandwidth = est_bandwidth, bin_seeding = True)\n",
    "ms.fit(flatten_img)\n",
    "labels = ms.labels_\n",
    "cluster_centers  = ms.cluster_centers_"
   ]
  },
  {
   "cell_type": "code",
   "execution_count": null,
   "id": "33c32ec5",
   "metadata": {},
   "outputs": [],
   "source": [
    "labels_unique = np.unique(labels)\n",
    "n_clusters= len(labels_unique)\n",
    "\n",
    "print(\"number of estimated clusters: %d\" % n_clusters)"
   ]
  },
  {
   "cell_type": "code",
   "execution_count": null,
   "id": "d58e186c",
   "metadata": {},
   "outputs": [],
   "source": [
    "#plot result\n",
    "import matplotlib.pyplot as plt\n",
    "fig,ax = plt.subplots(1,2,figsize=(16,6))\n",
    "ax[0].axis('off')\n",
    "ax[0].imshow(img)\n",
    "ax[0].set_title('Original Image')\n",
    "\n",
    "ax[1].axis('off')\n",
    "ax[1].set_title('Segmented Image')\n",
    "ax[1].imshow(np.reshape(labels, img.shape[:-1]))\n",
    "\n",
    "plt.show()"
   ]
  },
  {
   "cell_type": "markdown",
   "id": "b6c5c826",
   "metadata": {},
   "source": [
    "# Kernel Based Classifier"
   ]
  },
  {
   "cell_type": "code",
   "execution_count": null,
   "id": "bdf2dfe6",
   "metadata": {},
   "outputs": [],
   "source": [
    "def GaussianKernel(X_arr,X, X_central):\n",
    "    sig_arr = np.std(X_arr,axis = 0)\n",
    "    sig_arr = np.ravel(sig_arr)\n",
    "    dist_sum = 0\n",
    "    for i in range(len(X)):\n",
    "        d1 = [X[i]-X_central[i]]/sig_arr[i]\n",
    "        dist_sum += d1**2\n",
    "        kernel_val = np.exp(-0.5*dist_sum)\n",
    "    return(kernel_val)"
   ]
  },
  {
   "cell_type": "markdown",
   "id": "36be728f",
   "metadata": {},
   "source": [
    "# Object Tracking"
   ]
  },
  {
   "cell_type": "code",
   "execution_count": 1,
   "id": "7e8fac7b",
   "metadata": {},
   "outputs": [],
   "source": [
    "import numpy as np\n",
    "import cv2"
   ]
  },
  {
   "cell_type": "code",
   "execution_count": null,
   "id": "f6b4c60c",
   "metadata": {},
   "outputs": [],
   "source": [
    "def resize(img):\n",
    "    return cv2.resize(img,(512,512)) # arg1- input image, arg- output_width, output_height"
   ]
  },
  {
   "cell_type": "code",
   "execution_count": null,
   "id": "a2040311",
   "metadata": {},
   "outputs": [],
   "source": [
    "cap=cv2.VideoCapture(\"C:\\\\Users\\\\venka\\\\Downloads\\\\ballmotion.m4v\")\n",
    "ret,frame=cap.read()\n",
    "\n",
    "while ret==True:\n",
    "    ret,frame=cap.read()\n",
    "    #cv2.imshow(\"frame\",resize(frame))\n",
    "    cv2.imshow(\"frame\",frame)\n",
    "    key=cv2.waitKey(10)\n",
    "    if key==ord('q') or ret == False:\n",
    "        break\n",
    "cv2.waitKey(0)\n",
    "cv2.destroyAllWindows()"
   ]
  },
  {
   "cell_type": "code",
   "execution_count": 2,
   "id": "a0261710",
   "metadata": {},
   "outputs": [],
   "source": [
    "cap=cv2.VideoCapture('C:\\\\Users\\\\venka\\\\Downloads\\\\ballmotion.m4v')\n",
    "ret,frame=cap.read()\n",
    "hsv=cv2.cvtColor(frame,cv2.COLOR_BGR2HSV)\n",
    "cv2.imshow(\"frame\",frame)\n",
    "\n",
    "#key=cv2.waitKey(1)\n",
    "#if key==ord('q') or ret == False:\n",
    "#    break\n",
    "#    \n",
    "#cv2.waitKey(0)\n",
    "#cv2.destroyAllWindows()"
   ]
  },
  {
   "cell_type": "code",
   "execution_count": 1,
   "id": "6965a309",
   "metadata": {},
   "outputs": [],
   "source": [
    "import cv2\n",
    "import numpy as np\n",
    "\n",
    "cap=cv2.VideoCapture('C:\\\\Users\\\\venka\\\\Downloads\\\\ballmotion.m4v')\n",
    "#cap=cv2.VideoCapture('C:\\\\Users\\\\venka\\\\Downloads\\\\slow_traffic_small.mp4')\n",
    "\n",
    "ret,frame=cap.read()\n",
    "l_b=np.array([0,230,170])# lower hsv bound for red\n",
    "u_b=np.array([255,255,220])# upper hsv bound to red\n",
    "\n",
    "mask_arr = []\n",
    "while ret==True:\n",
    "    ret,frame=cap.read()\n",
    "\n",
    "    #hsv=cv2.cvtColor(frame,cv2.COLOR_BGR2HSV)\n",
    "    #mask=cv2.inRange(hsv,l_b,u_b)\n",
    "    \n",
    "    #frame = cv2.bitwise_and(frame, frame, mask=mask)\n",
    "    cv2.imshow('image', frame)\n",
    "    \n",
    "    #print(mask)\n",
    "    #if len(mask_arr) == 0:\n",
    "    #    mask_arr.append(mask)\n",
    "\n",
    "    #cv2.imshow(\"frame\",frame)\n",
    "\n",
    "    #cv2.imshow(\"mask\",mask)\n",
    "\n",
    "\n",
    "    key=cv2.waitKey(1)\n",
    "    if key==ord('q') or ret == False:\n",
    "    #if  cv2.waitKey(1) & 0xFF == ord('q'):\n",
    "        break\n",
    "        \n",
    "cv2.waitKey(0)\n",
    "cv2.destroyAllWindows()"
   ]
  },
  {
   "cell_type": "code",
   "execution_count": null,
   "id": "b66ec248",
   "metadata": {},
   "outputs": [],
   "source": [
    "import os\n",
    "print(os.getcwd())"
   ]
  },
  {
   "cell_type": "code",
   "execution_count": null,
   "id": "67812e67",
   "metadata": {},
   "outputs": [],
   "source": [
    "import numpy as np\n",
    "import pandas as pd\n",
    "\n",
    "df = pd.DataFrame( np.where(mask_arr!=0))\n",
    "df.to_csv(\"t1.csv\")\n",
    "\n",
    "#print(type(mask_arr))"
   ]
  },
  {
   "cell_type": "code",
   "execution_count": null,
   "id": "63ada269",
   "metadata": {},
   "outputs": [],
   "source": [
    "cap=cv2.VideoCapture('C:\\\\Users\\\\venka\\\\Downloads\\\\ballmotion.m4v')\n",
    "\n",
    "\n",
    "ret,frame=cap.read()\n",
    "l_b=np.array([0,230,170])# lower hsv bound for red\n",
    "u_b=np.array([255,255,220])# upper hsv bound to red\n",
    "\n",
    "while ret==True:\n",
    "    ret,frame=cap.read()\n",
    "\n",
    "    hsv=cv2.cvtColor(frame,cv2.COLOR_BGR2HSV)\n",
    "    mask=cv2.inRange(hsv,l_b,u_b)\n",
    "\n",
    "    contours,_= cv2.findContours(mask,cv2.RETR_TREE,cv2.CHAIN_APPROX_SIMPLE)\n",
    "    #print(contours)\n",
    "    max_contour = contours[0]\n",
    "    for contour in contours:\n",
    "        if cv2.contourArea(contour)>cv2.contourArea(max_contour):\n",
    "            max_contour=contour\n",
    "\n",
    "        contour=max_contour\n",
    "        #print(\"-------------\")\n",
    "        approx=cv2.approxPolyDP(contour, 0.01*cv2.arcLength(contour,True),True)\n",
    "        x,y,w,h=cv2.boundingRect(approx)\n",
    "        print('X:', x)\n",
    "        print(\"-----------\")\n",
    "        print(y)\n",
    "        print(\"-----------\")\n",
    "        print(w)\n",
    "        print(\"-----------\")\n",
    "        print(h)\n",
    "        \n",
    "        \n",
    "        cv2.rectangle(frame,(x,y),(x+w,y+h),(0,255,0),4)\n",
    "\n",
    "    cv2.imshow(\"frame\",frame)\n",
    "    \n",
    "    #cv2.imshow(\"mask\",mask)\n",
    "    \n",
    "    key=cv2.waitKey(1)\n",
    "    if key==ord('q') or ret == False:\n",
    "        break\n",
    "        \n",
    "cv2.waitKey(0)\n",
    "cv2.destroyAllWindows()\n"
   ]
  },
  {
   "cell_type": "code",
   "execution_count": null,
   "id": "1d631368",
   "metadata": {},
   "outputs": [],
   "source": [
    "#(x,y,w,h) (178,1075,4,5)"
   ]
  },
  {
   "cell_type": "code",
   "execution_count": null,
   "id": "b0d4f618",
   "metadata": {},
   "outputs": [],
   "source": [
    "import cv2\n",
    "cap = cv2.VideoCapture('C:\\\\Users\\\\venka\\\\Downloads\\\\slow_traffic_small.mp4')\n",
    "# take first frame of the video\n",
    "ret,frame = cap.read()\n",
    "# setup initial location of window\n",
    "x, y, w, h = 178, 2000, 4, 5 # simply hardcoded the values\n",
    "track_window = (x, y, w, h)\n",
    "cv2.rectangle(frame,(x,y),(x+w,y+h),(0,255,0),4)\n",
    "cv2.imshow(\"frame\",frame)\n",
    "    \n",
    "key=cv2.waitKey(10)\n",
    "if key==ord('q') or ret == False: \n",
    "    cv2.waitKey(0)\n",
    "    cv2.destroyAllWindows()"
   ]
  },
  {
   "cell_type": "code",
   "execution_count": null,
   "id": "405b2e9f",
   "metadata": {},
   "outputs": [],
   "source": []
  },
  {
   "cell_type": "code",
   "execution_count": 14,
   "id": "949fec78",
   "metadata": {},
   "outputs": [],
   "source": [
    "import numpy as np\n",
    "import cv2 as cv"
   ]
  },
  {
   "cell_type": "code",
   "execution_count": 15,
   "id": "ffa3b98f",
   "metadata": {},
   "outputs": [],
   "source": [
    "cap = cv.VideoCapture('C:\\\\Users\\\\venka\\\\Downloads\\\\slow_traffic_small.mp4')"
   ]
  },
  {
   "cell_type": "code",
   "execution_count": 16,
   "id": "24c9a43a",
   "metadata": {},
   "outputs": [
    {
     "data": {
      "text/plain": [
       "(360, 640, 3)"
      ]
     },
     "execution_count": 16,
     "metadata": {},
     "output_type": "execute_result"
    }
   ],
   "source": [
    "%matplotlib inline\n",
    "from matplotlib import pyplot as plt\n",
    "\n",
    "# take first frame of the video\n",
    "ret,frame = cap.read()\n",
    "frame.shape\n"
   ]
  },
  {
   "cell_type": "code",
   "execution_count": 17,
   "id": "98ab40c7",
   "metadata": {},
   "outputs": [
    {
     "data": {
      "image/png": "[encoded data removed]",
      "text/plain": [
       "<Figure size 432x288 with 1 Axes>"
      ]
     },
     "metadata": {
      "needs_background": "light"
     },
     "output_type": "display_data"
    }
   ],
   "source": [
    "#Show the image with matplotlib\n",
    "plt.imshow(frame)\n",
    "plt.show()"
   ]
  },
  {
   "cell_type": "code",
   "execution_count": 18,
   "id": "eeb32630",
   "metadata": {},
   "outputs": [
    {
     "ename": "error",
     "evalue": "OpenCV(4.5.5) D:\\a\\opencv-python\\opencv-python\\opencv\\modules\\imgproc\\src\\color.cpp:182: error: (-215:Assertion failed) !_src.empty() in function 'cv::cvtColor'\n",
     "output_type": "error",
     "traceback": [
      "\u001b[1;31m---------------------------------------------------------------------------\u001b[0m",
      "\u001b[1;31merror\u001b[0m                                     Traceback (most recent call last)",
      "\u001b[1;32m~\\AppData\\Local\\Temp/ipykernel_15800/877764577.py\u001b[0m in \u001b[0;36m<module>\u001b[1;34m\u001b[0m\n\u001b[0;32m      5\u001b[0m     \u001b[0mret\u001b[0m\u001b[1;33m,\u001b[0m\u001b[0mframe\u001b[0m\u001b[1;33m=\u001b[0m\u001b[0mcap\u001b[0m\u001b[1;33m.\u001b[0m\u001b[0mread\u001b[0m\u001b[1;33m(\u001b[0m\u001b[1;33m)\u001b[0m\u001b[1;33m\u001b[0m\u001b[1;33m\u001b[0m\u001b[0m\n\u001b[0;32m      6\u001b[0m     \u001b[1;31m#cv2.imshow(\"frame\",resize(frame))\u001b[0m\u001b[1;33m\u001b[0m\u001b[1;33m\u001b[0m\u001b[0m\n\u001b[1;32m----> 7\u001b[1;33m     \u001b[0mcv\u001b[0m\u001b[1;33m.\u001b[0m\u001b[0mimshow\u001b[0m\u001b[1;33m(\u001b[0m\u001b[1;34m\"frame\"\u001b[0m\u001b[1;33m,\u001b[0m\u001b[0mframe\u001b[0m\u001b[1;33m)\u001b[0m\u001b[1;33m\u001b[0m\u001b[1;33m\u001b[0m\u001b[0m\n\u001b[0m\u001b[0;32m      8\u001b[0m     \u001b[1;31m#plt.imshow(frame)\u001b[0m\u001b[1;33m\u001b[0m\u001b[1;33m\u001b[0m\u001b[0m\n\u001b[0;32m      9\u001b[0m     \u001b[1;31m#plt.show()\u001b[0m\u001b[1;33m\u001b[0m\u001b[1;33m\u001b[0m\u001b[0m\n",
      "\u001b[1;31merror\u001b[0m: OpenCV(4.5.5) D:\\a\\opencv-python\\opencv-python\\opencv\\modules\\imgproc\\src\\color.cpp:182: error: (-215:Assertion failed) !_src.empty() in function 'cv::cvtColor'\n"
     ]
    }
   ],
   "source": [
    "cap=cv.VideoCapture(\"C:\\\\Users\\\\venka\\\\Downloads\\\\ballmotion.m4v\")\n",
    "ret,frame=cap.read()\n",
    "\n",
    "while ret==True:\n",
    "    ret,frame=cap.read()\n",
    "    #cv2.imshow(\"frame\",resize(frame))\n",
    "    cv.imshow(\"frame\",frame)\n",
    "    #plt.imshow(frame)\n",
    "    #plt.show()    "
   ]
  },
  {
   "cell_type": "code",
   "execution_count": 9,
   "id": "05405f90",
   "metadata": {},
   "outputs": [
    {
     "ename": "NameError",
     "evalue": "name 'cv2' is not defined",
     "output_type": "error",
     "traceback": [
      "\u001b[1;31m---------------------------------------------------------------------------\u001b[0m",
      "\u001b[1;31mNameError\u001b[0m                                 Traceback (most recent call last)",
      "\u001b[1;32m~\\AppData\\Local\\Temp/ipykernel_15800/513594994.py\u001b[0m in \u001b[0;36m<module>\u001b[1;34m\u001b[0m\n\u001b[0;32m      2\u001b[0m \u001b[1;33m\u001b[0m\u001b[0m\n\u001b[0;32m      3\u001b[0m \u001b[1;31m#Import image\u001b[0m\u001b[1;33m\u001b[0m\u001b[1;33m\u001b[0m\u001b[0m\n\u001b[1;32m----> 4\u001b[1;33m \u001b[0mimage\u001b[0m \u001b[1;33m=\u001b[0m \u001b[0mcv2\u001b[0m\u001b[1;33m.\u001b[0m\u001b[0mimread\u001b[0m\u001b[1;33m(\u001b[0m\u001b[1;34m\"input_path\"\u001b[0m\u001b[1;33m)\u001b[0m\u001b[1;33m\u001b[0m\u001b[1;33m\u001b[0m\u001b[0m\n\u001b[0m\u001b[0;32m      5\u001b[0m \u001b[1;33m\u001b[0m\u001b[0m\n",
      "\u001b[1;31mNameError\u001b[0m: name 'cv2' is not defined"
     ]
    }
   ],
   "source": [
    "from matplotlib import pyplot as plt\n",
    "\n",
    "#Import image\n",
    "image = cv2.imread(\"input_path\")\n",
    "\n"
   ]
  },
  {
   "cell_type": "code",
   "execution_count": 4,
   "id": "34fee411",
   "metadata": {},
   "outputs": [],
   "source": [
    "# setup initial location of window\n",
    "x, y, w, h = 300, 200, 100, 100 # simply hardcoded the values\n",
    "track_window = (x, y, w, h)"
   ]
  },
  {
   "cell_type": "code",
   "execution_count": 5,
   "id": "4d2cbeb8",
   "metadata": {},
   "outputs": [
    {
     "data": {
      "text/plain": [
       "array([[  6.8     ],\n",
       "       [  0.      ],\n",
       "       [  0.      ],\n",
       "       [  3.4     ],\n",
       "       [  0.      ],\n",
       "       [  0.      ],\n",
       "       [  0.      ],\n",
       "       [  0.      ],\n",
       "       [  0.      ],\n",
       "       [  0.      ],\n",
       "       [  0.      ],\n",
       "       [  0.      ],\n",
       "       [  0.      ],\n",
       "       [  0.      ],\n",
       "       [  0.      ],\n",
       "       [  0.      ],\n",
       "       [  0.      ],\n",
       "       [  0.      ],\n",
       "       [  0.      ],\n",
       "       [  0.      ],\n",
       "       [  0.      ],\n",
       "       [  0.      ],\n",
       "       [  0.      ],\n",
       "       [  0.      ],\n",
       "       [  0.      ],\n",
       "       [  0.      ],\n",
       "       [  0.      ],\n",
       "       [  0.      ],\n",
       "       [  0.      ],\n",
       "       [  0.      ],\n",
       "       [  0.      ],\n",
       "       [  0.      ],\n",
       "       [  0.      ],\n",
       "       [  0.      ],\n",
       "       [  0.      ],\n",
       "       [  0.      ],\n",
       "       [  0.      ],\n",
       "       [  0.      ],\n",
       "       [  0.      ],\n",
       "       [  0.      ],\n",
       "       [  0.      ],\n",
       "       [  0.      ],\n",
       "       [  0.      ],\n",
       "       [  0.      ],\n",
       "       [  0.      ],\n",
       "       [  0.      ],\n",
       "       [  0.      ],\n",
       "       [  0.      ],\n",
       "       [  0.      ],\n",
       "       [  0.      ],\n",
       "       [  0.      ],\n",
       "       [  0.      ],\n",
       "       [  0.      ],\n",
       "       [  0.      ],\n",
       "       [  0.      ],\n",
       "       [  0.      ],\n",
       "       [  0.      ],\n",
       "       [  0.      ],\n",
       "       [  0.      ],\n",
       "       [  0.      ],\n",
       "       [  0.      ],\n",
       "       [  0.      ],\n",
       "       [  0.      ],\n",
       "       [  0.      ],\n",
       "       [  0.      ],\n",
       "       [  0.      ],\n",
       "       [  0.      ],\n",
       "       [  0.      ],\n",
       "       [  0.      ],\n",
       "       [  0.      ],\n",
       "       [  0.      ],\n",
       "       [  0.      ],\n",
       "       [  0.      ],\n",
       "       [  0.      ],\n",
       "       [  0.      ],\n",
       "       [  0.      ],\n",
       "       [  0.      ],\n",
       "       [  0.      ],\n",
       "       [  0.      ],\n",
       "       [  0.      ],\n",
       "       [  0.      ],\n",
       "       [  0.      ],\n",
       "       [  0.      ],\n",
       "       [  0.      ],\n",
       "       [  0.      ],\n",
       "       [  0.      ],\n",
       "       [  0.      ],\n",
       "       [  0.      ],\n",
       "       [  0.      ],\n",
       "       [  0.      ],\n",
       "       [  0.      ],\n",
       "       [  0.      ],\n",
       "       [  0.      ],\n",
       "       [  0.      ],\n",
       "       [  0.      ],\n",
       "       [  0.      ],\n",
       "       [  0.      ],\n",
       "       [  0.      ],\n",
       "       [  0.      ],\n",
       "       [255.      ],\n",
       "       [  0.      ],\n",
       "       [ 17.      ],\n",
       "       [ 10.200001],\n",
       "       [ 61.2     ],\n",
       "       [ 34.      ],\n",
       "       [  0.      ],\n",
       "       [125.8     ],\n",
       "       [  0.      ],\n",
       "       [ 61.2     ],\n",
       "       [  0.      ],\n",
       "       [ 61.2     ],\n",
       "       [  0.      ],\n",
       "       [  0.      ],\n",
       "       [  0.      ],\n",
       "       [  0.      ],\n",
       "       [  0.      ],\n",
       "       [  0.      ],\n",
       "       [  0.      ],\n",
       "       [  0.      ],\n",
       "       [  0.      ],\n",
       "       [  0.      ],\n",
       "       [  0.      ],\n",
       "       [  0.      ],\n",
       "       [  0.      ],\n",
       "       [  0.      ],\n",
       "       [  0.      ],\n",
       "       [  0.      ],\n",
       "       [  0.      ],\n",
       "       [  0.      ],\n",
       "       [  0.      ],\n",
       "       [  0.      ],\n",
       "       [  0.      ],\n",
       "       [  0.      ],\n",
       "       [  0.      ],\n",
       "       [  0.      ],\n",
       "       [  0.      ],\n",
       "       [  0.      ],\n",
       "       [  0.      ],\n",
       "       [  0.      ],\n",
       "       [  0.      ],\n",
       "       [  0.      ],\n",
       "       [  0.      ],\n",
       "       [  0.      ],\n",
       "       [  0.      ],\n",
       "       [  0.      ],\n",
       "       [  0.      ],\n",
       "       [  0.      ],\n",
       "       [  0.      ],\n",
       "       [  0.      ],\n",
       "       [  0.      ],\n",
       "       [  0.      ],\n",
       "       [  0.      ],\n",
       "       [  0.      ],\n",
       "       [  0.      ],\n",
       "       [  0.      ],\n",
       "       [  0.      ],\n",
       "       [  0.      ],\n",
       "       [  0.      ],\n",
       "       [  0.      ],\n",
       "       [  0.      ],\n",
       "       [  0.      ],\n",
       "       [  0.      ],\n",
       "       [  0.      ],\n",
       "       [  0.      ],\n",
       "       [  0.      ],\n",
       "       [  0.      ],\n",
       "       [  0.      ],\n",
       "       [  0.      ],\n",
       "       [ 20.400002],\n",
       "       [  0.      ],\n",
       "       [  0.      ],\n",
       "       [  0.      ],\n",
       "       [  0.      ],\n",
       "       [  0.      ],\n",
       "       [  6.8     ],\n",
       "       [  0.      ],\n",
       "       [  0.      ],\n",
       "       [ 10.200001],\n",
       "       [  0.      ],\n",
       "       [ 13.6     ]], dtype=float32)"
      ]
     },
     "execution_count": 5,
     "metadata": {},
     "output_type": "execute_result"
    }
   ],
   "source": [
    "# set up the ROI for tracking\n",
    "roi = frame[y:y+h, x:x+w]\n",
    "hsv_roi =  cv.cvtColor(roi, cv.COLOR_BGR2HSV)\n",
    "mask = cv.inRange(hsv_roi, np.array((0., 60.,32.)), np.array((180.,255.,255.)))\n",
    "roi_hist = cv.calcHist([hsv_roi],[0],mask,[180],[0,180])\n",
    "cv.normalize(roi_hist,roi_hist,0,255,cv.NORM_MINMAX)"
   ]
  },
  {
   "cell_type": "code",
   "execution_count": 15,
   "id": "2ce6fba7",
   "metadata": {},
   "outputs": [],
   "source": [
    "# Setup the termination criteria, either 10 iteration or move by at least 1 pt\n",
    "term_crit = ( cv.TERM_CRITERIA_EPS | cv.TERM_CRITERIA_COUNT, 20, 1 )"
   ]
  },
  {
   "cell_type": "code",
   "execution_count": 16,
   "id": "fe984e1a",
   "metadata": {},
   "outputs": [],
   "source": [
    "ret = True\n",
    "while ret==True:\n",
    "    ret, frame = cap.read()\n",
    "\n",
    "    if ret == True:\n",
    "        hsv = cv.cvtColor(frame, cv.COLOR_BGR2HSV)\n",
    "        dst = cv.calcBackProject([hsv],[0],roi_hist,[0,180],1)\n",
    "\n",
    "        # apply meanshift to get the new location\n",
    "        ret, track_window = cv.meanShift(dst, track_window, term_crit)\n",
    "\n",
    "        # Draw it on image\n",
    "        x,y,w,h = track_window\n",
    "        img2 = cv.rectangle(frame, (x,y), (x+w,y+h), 255,2)\n",
    "        cv.imshow('img2',img2)\n",
    "\n",
    "        k = cv.waitKey(1) \n",
    "        if k==27 or ret == False: \n",
    "            break\n",
    "  \n",
    "cv.waitKey(0)\n",
    "cv.destroyAllWindows()"
   ]
  },
  {
   "cell_type": "code",
   "execution_count": null,
   "id": "445b5053",
   "metadata": {},
   "outputs": [],
   "source": []
  },
  {
   "cell_type": "code",
   "execution_count": null,
   "id": "937ad7c5",
   "metadata": {},
   "outputs": [],
   "source": []
  }
 ],
 "metadata": {
  "kernelspec": {
   "display_name": "Python 3 (ipykernel)",
   "language": "python",
   "name": "python3"
  },
  "language_info": {
   "codemirror_mode": {
    "name": "ipython",
    "version": 3
   },
   "file_extension": ".py",
   "mimetype": "text/x-python",
   "name": "python",
   "nbconvert_exporter": "python",
   "pygments_lexer": "ipython3",
   "version": "3.9.7"
  }
 },
 "nbformat": 4,
 "nbformat_minor": 5
}
