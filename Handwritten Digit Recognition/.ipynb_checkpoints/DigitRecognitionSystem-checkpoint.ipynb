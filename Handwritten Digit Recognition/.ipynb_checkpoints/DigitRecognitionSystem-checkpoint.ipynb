{
 "cells": [
  {
   "cell_type": "markdown",
   "id": "a6d9200d",
   "metadata": {},
   "source": [
    "# Load the libraries"
   ]
  },
  {
   "cell_type": "code",
   "execution_count": 1,
   "id": "3fbbdfe3",
   "metadata": {},
   "outputs": [],
   "source": [
    "from sklearn.neural_network import MLPClassifier\n",
    "from sklearn.model_selection import train_test_split\n",
    "from sklearn.metrics import classification_report,confusion_matrix\n",
    "from sklearn.metrics import accuracy_score\n",
    "from sklearn.model_selection import KFold\n",
    "import matplotlib.pyplot as plt\n",
    "\n",
    "import numpy as np\n",
    "from sklearn.svm import SVC\n",
    "from sklearn import datasets"
   ]
  },
  {
   "cell_type": "markdown",
   "id": "dec88f1f",
   "metadata": {},
   "source": [
    "# Download the dataset"
   ]
  },
  {
   "cell_type": "code",
   "execution_count": 2,
   "id": "47a8cf3a",
   "metadata": {},
   "outputs": [
    {
     "data": {
      "text/plain": [
       "['DESCR', 'data', 'feature_names', 'frame', 'images', 'target', 'target_names']"
      ]
     },
     "execution_count": 2,
     "metadata": {},
     "output_type": "execute_result"
    }
   ],
   "source": [
    "digits = datasets.load_digits()\n",
    "dir(digits)"
   ]
  },
  {
   "cell_type": "code",
   "execution_count": 3,
   "id": "b96891ee",
   "metadata": {},
   "outputs": [
    {
     "name": "stdout",
     "output_type": "stream",
     "text": [
      "(1797, 8, 8)\n",
      "(1797,)\n",
      "[0 1 2 ... 8 9 8]\n"
     ]
    }
   ],
   "source": [
    "print(digits.images.shape)\n",
    "print(digits.target.shape)\n",
    "print(digits.target)"
   ]
  },
  {
   "cell_type": "code",
   "execution_count": 4,
   "id": "92b2e8e4",
   "metadata": {},
   "outputs": [
    {
     "data": {
      "image/png": "[encoded data removed]",
      "text/plain": [
       "<Figure size 432x288 with 1 Axes>"
      ]
     },
     "metadata": {
      "needs_background": "light"
     },
     "output_type": "display_data"
    },
    {
     "data": {
      "text/plain": [
       "0"
      ]
     },
     "execution_count": 4,
     "metadata": {},
     "output_type": "execute_result"
    }
   ],
   "source": [
    "plt.imshow(digits.images[0])\n",
    "plt.show()\n",
    "digits.target_names[0]"
   ]
  },
  {
   "cell_type": "markdown",
   "id": "3fca91dc",
   "metadata": {},
   "source": [
    "# squeezing the data into vector"
   ]
  },
  {
   "cell_type": "code",
   "execution_count": 5,
   "id": "be6b88dc",
   "metadata": {},
   "outputs": [
    {
     "data": {
      "text/plain": [
       "(1797, 64)"
      ]
     },
     "execution_count": 5,
     "metadata": {},
     "output_type": "execute_result"
    }
   ],
   "source": [
    "image_reshaped = digits.images.reshape((len(digits.images), -1))\n",
    "image_reshaped.shape"
   ]
  },
  {
   "cell_type": "code",
   "execution_count": 6,
   "id": "47979db2",
   "metadata": {},
   "outputs": [],
   "source": [
    "from sklearn.preprocessing import StandardScaler\n",
    "scaler = StandardScaler()\n",
    "x_scaled = scaler.fit_transform(image_reshaped)"
   ]
  },
  {
   "cell_type": "code",
   "execution_count": 7,
   "id": "235d1875",
   "metadata": {},
   "outputs": [
    {
     "data": {
      "text/plain": [
       "(1797,)"
      ]
     },
     "execution_count": 7,
     "metadata": {},
     "output_type": "execute_result"
    }
   ],
   "source": [
    "y = digits.target\n",
    "y.shape"
   ]
  },
  {
   "cell_type": "code",
   "execution_count": 8,
   "id": "069cf67a",
   "metadata": {},
   "outputs": [
    {
     "name": "stdout",
     "output_type": "stream",
     "text": [
      "[[  0 178]\n",
      " [  1 182]\n",
      " [  2 177]\n",
      " [  3 183]\n",
      " [  4 181]\n",
      " [  5 182]\n",
      " [  6 181]\n",
      " [  7 179]\n",
      " [  8 174]\n",
      " [  9 180]]\n"
     ]
    }
   ],
   "source": [
    "unique, counts = np.unique(digits.target,return_counts = True)\n",
    "result = np.column_stack((unique, counts))\n",
    "print(result)"
   ]
  },
  {
   "cell_type": "code",
   "execution_count": 9,
   "id": "67b39bdf",
   "metadata": {},
   "outputs": [
    {
     "name": "stdout",
     "output_type": "stream",
     "text": [
      "(1797, 64)\n",
      "(1797,)\n"
     ]
    }
   ],
   "source": [
    "print(x_scaled.shape)\n",
    "print(digits.target.shape)"
   ]
  },
  {
   "cell_type": "code",
   "execution_count": 10,
   "id": "eba8513b",
   "metadata": {},
   "outputs": [
    {
     "data": {
      "text/plain": [
       "5"
      ]
     },
     "execution_count": 10,
     "metadata": {},
     "output_type": "execute_result"
    }
   ],
   "source": [
    "digits.target[15]"
   ]
  },
  {
   "cell_type": "markdown",
   "id": "3d236083",
   "metadata": {},
   "source": [
    "# MLP Classifier"
   ]
  },
  {
   "cell_type": "code",
   "execution_count": 11,
   "id": "362b0f52",
   "metadata": {},
   "outputs": [
    {
     "name": "stdout",
     "output_type": "stream",
     "text": [
      "0.9722222222222222\n",
      "              precision    recall  f1-score   support\n",
      "\n",
      "           0       1.00      1.00      1.00        32\n",
      "           1       0.96      1.00      0.98        44\n",
      "           2       1.00      1.00      1.00        31\n",
      "           3       1.00      1.00      1.00        36\n",
      "           4       0.97      0.89      0.93        35\n",
      "           5       0.98      0.98      0.98        43\n",
      "           6       1.00      0.94      0.97        35\n",
      "           7       0.98      1.00      0.99        40\n",
      "           8       0.90      0.97      0.93        36\n",
      "           9       0.96      0.93      0.95        28\n",
      "\n",
      "    accuracy                           0.97       360\n",
      "   macro avg       0.97      0.97      0.97       360\n",
      "weighted avg       0.97      0.97      0.97       360\n",
      "\n",
      "[[32  0  0  0  0  0  0  0  0  0]\n",
      " [ 0 44  0  0  0  0  0  0  0  0]\n",
      " [ 0  0 31  0  0  0  0  0  0  0]\n",
      " [ 0  0  0 36  0  0  0  0  0  0]\n",
      " [ 0  0  0  0 31  0  0  0  3  1]\n",
      " [ 0  0  0  0  1 42  0  0  0  0]\n",
      " [ 0  1  0  0  0  0 33  0  1  0]\n",
      " [ 0  0  0  0  0  0  0 40  0  0]\n",
      " [ 0  1  0  0  0  0  0  0 35  0]\n",
      " [ 0  0  0  0  0  1  0  1  0 26]]\n",
      "-----------------\n",
      "0.9777777777777777\n",
      "              precision    recall  f1-score   support\n",
      "\n",
      "           0       0.98      1.00      0.99        45\n",
      "           1       0.91      0.97      0.94        31\n",
      "           2       1.00      1.00      1.00        34\n",
      "           3       1.00      0.97      0.99        40\n",
      "           4       0.97      1.00      0.99        34\n",
      "           5       1.00      1.00      1.00        36\n",
      "           6       1.00      0.98      0.99        42\n",
      "           7       1.00      1.00      1.00        31\n",
      "           8       0.89      0.89      0.89        27\n",
      "           9       1.00      0.95      0.97        40\n",
      "\n",
      "    accuracy                           0.98       360\n",
      "   macro avg       0.97      0.98      0.98       360\n",
      "weighted avg       0.98      0.98      0.98       360\n",
      "\n",
      "[[45  0  0  0  0  0  0  0  0  0]\n",
      " [ 0 30  0  0  1  0  0  0  0  0]\n",
      " [ 0  0 34  0  0  0  0  0  0  0]\n",
      " [ 0  0  0 39  0  0  0  0  1  0]\n",
      " [ 0  0  0  0 34  0  0  0  0  0]\n",
      " [ 0  0  0  0  0 36  0  0  0  0]\n",
      " [ 1  0  0  0  0  0 41  0  0  0]\n",
      " [ 0  0  0  0  0  0  0 31  0  0]\n",
      " [ 0  3  0  0  0  0  0  0 24  0]\n",
      " [ 0  0  0  0  0  0  0  0  2 38]]\n",
      "-----------------\n",
      "0.9860724233983287\n",
      "              precision    recall  f1-score   support\n",
      "\n",
      "           0       1.00      1.00      1.00        27\n",
      "           1       0.97      1.00      0.99        38\n",
      "           2       1.00      0.97      0.99        35\n",
      "           3       0.97      0.97      0.97        40\n",
      "           4       1.00      1.00      1.00        31\n",
      "           5       0.98      1.00      0.99        40\n",
      "           6       1.00      1.00      1.00        43\n",
      "           7       1.00      0.97      0.98        32\n",
      "           8       0.97      0.97      0.97        35\n",
      "           9       0.97      0.97      0.97        38\n",
      "\n",
      "    accuracy                           0.99       359\n",
      "   macro avg       0.99      0.99      0.99       359\n",
      "weighted avg       0.99      0.99      0.99       359\n",
      "\n",
      "[[27  0  0  0  0  0  0  0  0  0]\n",
      " [ 0 38  0  0  0  0  0  0  0  0]\n",
      " [ 0  1 34  0  0  0  0  0  0  0]\n",
      " [ 0  0  0 39  0  0  0  0  1  0]\n",
      " [ 0  0  0  0 31  0  0  0  0  0]\n",
      " [ 0  0  0  0  0 40  0  0  0  0]\n",
      " [ 0  0  0  0  0  0 43  0  0  0]\n",
      " [ 0  0  0  0  0  0  0 31  0  1]\n",
      " [ 0  0  0  1  0  0  0  0 34  0]\n",
      " [ 0  0  0  0  0  1  0  0  0 37]]\n",
      "-----------------\n",
      "0.9805013927576601\n",
      "              precision    recall  f1-score   support\n",
      "\n",
      "           0       1.00      1.00      1.00        39\n",
      "           1       0.94      0.94      0.94        35\n",
      "           2       0.98      1.00      0.99        43\n",
      "           3       1.00      1.00      1.00        32\n",
      "           4       1.00      0.98      0.99        42\n",
      "           5       1.00      0.94      0.97        31\n",
      "           6       0.97      1.00      0.98        28\n",
      "           7       1.00      1.00      1.00        43\n",
      "           8       0.94      0.94      0.94        36\n",
      "           9       0.97      1.00      0.98        30\n",
      "\n",
      "    accuracy                           0.98       359\n",
      "   macro avg       0.98      0.98      0.98       359\n",
      "weighted avg       0.98      0.98      0.98       359\n",
      "\n",
      "[[39  0  0  0  0  0  0  0  0  0]\n",
      " [ 0 33  0  0  0  0  0  0  2  0]\n",
      " [ 0  0 43  0  0  0  0  0  0  0]\n",
      " [ 0  0  0 32  0  0  0  0  0  0]\n",
      " [ 0  0  1  0 41  0  0  0  0  0]\n",
      " [ 0  0  0  0  0 29  1  0  0  1]\n",
      " [ 0  0  0  0  0  0 28  0  0  0]\n",
      " [ 0  0  0  0  0  0  0 43  0  0]\n",
      " [ 0  2  0  0  0  0  0  0 34  0]\n",
      " [ 0  0  0  0  0  0  0  0  0 30]]\n",
      "-----------------\n",
      "0.9916434540389972\n",
      "              precision    recall  f1-score   support\n",
      "\n",
      "           0       1.00      1.00      1.00        35\n",
      "           1       0.97      1.00      0.99        34\n",
      "           2       1.00      1.00      1.00        34\n",
      "           3       1.00      0.97      0.99        35\n",
      "           4       0.97      0.97      0.97        39\n",
      "           5       0.97      1.00      0.98        32\n",
      "           6       1.00      1.00      1.00        33\n",
      "           7       1.00      1.00      1.00        33\n",
      "           8       1.00      0.97      0.99        40\n",
      "           9       1.00      1.00      1.00        44\n",
      "\n",
      "    accuracy                           0.99       359\n",
      "   macro avg       0.99      0.99      0.99       359\n",
      "weighted avg       0.99      0.99      0.99       359\n",
      "\n",
      "[[35  0  0  0  0  0  0  0  0  0]\n",
      " [ 0 34  0  0  0  0  0  0  0  0]\n",
      " [ 0  0 34  0  0  0  0  0  0  0]\n",
      " [ 0  0  0 34  0  1  0  0  0  0]\n",
      " [ 0  1  0  0 38  0  0  0  0  0]\n",
      " [ 0  0  0  0  0 32  0  0  0  0]\n",
      " [ 0  0  0  0  0  0 33  0  0  0]\n",
      " [ 0  0  0  0  0  0  0 33  0  0]\n",
      " [ 0  0  0  0  1  0  0  0 39  0]\n",
      " [ 0  0  0  0  0  0  0  0  0 44]]\n",
      "-----------------\n"
     ]
    }
   ],
   "source": [
    "kf = KFold(n_splits = 5, shuffle = True, random_state = 2)\n",
    "mlp = MLPClassifier(hidden_layer_sizes=(300,300), activation='relu', solver='adam', random_state=1, max_iter=2000,shuffle=True,momentum=0.9,alpha=0.001, learning_rate = 'adaptive')\n",
    "acc_score_mlp = []\n",
    "for k, (train_index, test_index) in enumerate(kf.split(x_scaled)):\n",
    "    \n",
    "    #print(\"TRAIN:\", train_index, \"TEST:\", test_index)\n",
    "    X_train, X_test = x_scaled[train_index], x_scaled[test_index]\n",
    "    y_train, y_test = digits.target[train_index], digits.target[test_index]\n",
    "    \n",
    "    #print(x_train)\n",
    "    #mlp = MLPClassifier(hidden_layer_sizes=(15,), activation='logistic', alpha=1e-4, solver='sgd', tol=1e-4, random_state=1,learning_rate_init=.1, verbose=False)\n",
    "    mlp.fit(X_train,y_train)\n",
    "    predictions = mlp.predict(X_test)\n",
    "    score = accuracy_score(y_test, predictions)\n",
    "    acc_score_mlp.append(score)\n",
    "    print(accuracy_score(y_test, predictions))\n",
    "    print(classification_report(y_test,predictions))\n",
    "    print(confusion_matrix(y_test,predictions))\n",
    "    #print(\"Indices\", np.where(y_test != predictions),\"Expected \", digits.target[np.where(y_test != predictions)], \"Actual\", predictions[np.where(y_test != predictions)])\n",
    "    print(\"-----------------\")\n",
    "    #print(\"[fold {0}] , accurancy: {2:.5f}\".format(k, accuracy_score(y_test, predictions)))\n",
    "    #predictions = mlp.predict(x_test)\n",
    "    \n",
    "\n"
   ]
  },
  {
   "cell_type": "code",
   "execution_count": null,
   "id": "91d131c3",
   "metadata": {},
   "outputs": [],
   "source": [
    "  "
   ]
  },
  {
   "cell_type": "markdown",
   "id": "35acd79a",
   "metadata": {},
   "source": [
    "# SVC LInear Model"
   ]
  },
  {
   "cell_type": "code",
   "execution_count": 12,
   "id": "b4cdae35",
   "metadata": {},
   "outputs": [
    {
     "name": "stdout",
     "output_type": "stream",
     "text": [
      "0.9722222222222222\n",
      "              precision    recall  f1-score   support\n",
      "\n",
      "           0       1.00      1.00      1.00        32\n",
      "           1       0.96      1.00      0.98        44\n",
      "           2       1.00      1.00      1.00        31\n",
      "           3       1.00      0.97      0.99        36\n",
      "           4       1.00      0.89      0.94        35\n",
      "           5       0.98      1.00      0.99        43\n",
      "           6       1.00      0.97      0.99        35\n",
      "           7       0.98      1.00      0.99        40\n",
      "           8       0.89      0.94      0.92        36\n",
      "           9       0.93      0.93      0.93        28\n",
      "\n",
      "    accuracy                           0.97       360\n",
      "   macro avg       0.97      0.97      0.97       360\n",
      "weighted avg       0.97      0.97      0.97       360\n",
      "\n",
      "0.975\n",
      "              precision    recall  f1-score   support\n",
      "\n",
      "           0       1.00      1.00      1.00        45\n",
      "           1       0.94      1.00      0.97        31\n",
      "           2       0.97      1.00      0.99        34\n",
      "           3       1.00      0.97      0.99        40\n",
      "           4       0.92      1.00      0.96        34\n",
      "           5       1.00      0.97      0.99        36\n",
      "           6       1.00      0.98      0.99        42\n",
      "           7       1.00      1.00      1.00        31\n",
      "           8       0.92      0.85      0.88        27\n",
      "           9       0.97      0.95      0.96        40\n",
      "\n",
      "    accuracy                           0.97       360\n",
      "   macro avg       0.97      0.97      0.97       360\n",
      "weighted avg       0.98      0.97      0.97       360\n",
      "\n",
      "0.9832869080779945\n",
      "              precision    recall  f1-score   support\n",
      "\n",
      "           0       1.00      1.00      1.00        27\n",
      "           1       1.00      1.00      1.00        38\n",
      "           2       1.00      1.00      1.00        35\n",
      "           3       0.97      0.97      0.97        40\n",
      "           4       1.00      1.00      1.00        31\n",
      "           5       0.95      0.97      0.96        40\n",
      "           6       1.00      1.00      1.00        43\n",
      "           7       1.00      0.97      0.98        32\n",
      "           8       0.94      0.97      0.96        35\n",
      "           9       0.97      0.95      0.96        38\n",
      "\n",
      "    accuracy                           0.98       359\n",
      "   macro avg       0.98      0.98      0.98       359\n",
      "weighted avg       0.98      0.98      0.98       359\n",
      "\n",
      "0.9832869080779945\n",
      "              precision    recall  f1-score   support\n",
      "\n",
      "           0       1.00      1.00      1.00        39\n",
      "           1       0.97      0.94      0.96        35\n",
      "           2       1.00      1.00      1.00        43\n",
      "           3       1.00      0.97      0.98        32\n",
      "           4       1.00      1.00      1.00        42\n",
      "           5       0.97      0.97      0.97        31\n",
      "           6       1.00      1.00      1.00        28\n",
      "           7       1.00      1.00      1.00        43\n",
      "           8       0.95      0.97      0.96        36\n",
      "           9       0.94      0.97      0.95        30\n",
      "\n",
      "    accuracy                           0.98       359\n",
      "   macro avg       0.98      0.98      0.98       359\n",
      "weighted avg       0.98      0.98      0.98       359\n",
      "\n",
      "0.9860724233983287\n",
      "              precision    recall  f1-score   support\n",
      "\n",
      "           0       1.00      1.00      1.00        35\n",
      "           1       0.92      1.00      0.96        34\n",
      "           2       0.97      1.00      0.99        34\n",
      "           3       0.97      1.00      0.99        35\n",
      "           4       1.00      0.97      0.99        39\n",
      "           5       1.00      1.00      1.00        32\n",
      "           6       1.00      1.00      1.00        33\n",
      "           7       1.00      1.00      1.00        33\n",
      "           8       1.00      0.93      0.96        40\n",
      "           9       1.00      0.98      0.99        44\n",
      "\n",
      "    accuracy                           0.99       359\n",
      "   macro avg       0.99      0.99      0.99       359\n",
      "weighted avg       0.99      0.99      0.99       359\n",
      "\n"
     ]
    }
   ],
   "source": [
    "kf = KFold(n_splits = 5, shuffle = True, random_state = 2)\n",
    "svc_linear = SVC(kernel='linear')\n",
    "acc_score = []\n",
    "\n",
    "acc_score_svc_linear = []\n",
    "    \n",
    "for k, (train_index, test_index) in enumerate(kf.split(x_scaled)):\n",
    "    \n",
    "    #print(\"TRAIN:\", train_index, \"TEST:\", test_index)\n",
    "    X_train, X_test = x_scaled[train_index], x_scaled[test_index]\n",
    "    y_train, y_test = digits.target[train_index], digits.target[test_index]\n",
    "    \n",
    "    #print(x_train)\n",
    "    #mlp = MLPClassifier(hidden_layer_sizes=(15,), activation='logistic', alpha=1e-4, solver='sgd', tol=1e-4, random_state=1,learning_rate_init=.1, verbose=False)\n",
    "   \n",
    "    \n",
    "    svc_linear.fit(X_train,y_train)\n",
    "    predictions = svc_linear.predict(X_test)\n",
    "    score = accuracy_score(y_test, predictions)\n",
    "    acc_score_svc_linear.append(score)\n",
    "    print(score)\n",
    "    print(classification_report(y_test,predictions))\n",
    "    #print(\"[fold {0}] , accurancy: {2:.5f}\".format(k, accuracy_score(y_test, predictions)))\n",
    "    #predictions = mlp.predict(x_test)\n"
   ]
  },
  {
   "cell_type": "code",
   "execution_count": null,
   "id": "f6c05cf1",
   "metadata": {},
   "outputs": [],
   "source": []
  },
  {
   "cell_type": "markdown",
   "id": "3868340e",
   "metadata": {},
   "source": [
    "# SVC - RBF Kernel"
   ]
  },
  {
   "cell_type": "code",
   "execution_count": 13,
   "id": "1d419556",
   "metadata": {},
   "outputs": [
    {
     "name": "stdout",
     "output_type": "stream",
     "text": [
      "0.975\n",
      "0.9777777777777777\n",
      "0.9832869080779945\n",
      "0.9832869080779945\n",
      "0.9888579387186629\n"
     ]
    }
   ],
   "source": [
    "kf = KFold(n_splits = 5, shuffle = True, random_state = 2)\n",
    "svc_rbf = SVC(kernel='rbf')\n",
    "acc_score_svc_rbf = []\n",
    "\n",
    "for k, (train_index, test_index) in enumerate(kf.split(x_scaled)):\n",
    "    \n",
    "    #print(\"TRAIN:\", train_index, \"TEST:\", test_index)\n",
    "    X_train, X_test = x_scaled[train_index], x_scaled[test_index]\n",
    "    y_train, y_test = digits.target[train_index], digits.target[test_index]\n",
    "    \n",
    "    #print(x_train)\n",
    "    #mlp = MLPClassifier(hidden_layer_sizes=(15,), activation='logistic', alpha=1e-4, solver='sgd', tol=1e-4, random_state=1,learning_rate_init=.1, verbose=False)\n",
    "    svc_rbf.fit(X_train,y_train)\n",
    "    predictions = svc_rbf.predict(X_test)\n",
    "    score = accuracy_score(y_test, predictions) \n",
    "    acc_score_svc_rbf.append(score)\n",
    "    print(score)\n",
    "    #print(\"[fold {0}] , accurancy: {2:.5f}\".format(k, accuracy_score(y_test, predictions)))\n",
    "    #predictions = mlp.predict(x_test)"
   ]
  },
  {
   "cell_type": "code",
   "execution_count": 14,
   "id": "9f81274c",
   "metadata": {},
   "outputs": [
    {
     "name": "stdout",
     "output_type": "stream",
     "text": [
      "Total SVC(RBF Kernel) model accuracy:  0.981641906530486\n",
      "Total SVC(Linear) model accuracy:  0.9799736923553081\n",
      "Total MLP model accuracy:  0.9816434540389972\n"
     ]
    }
   ],
   "source": [
    "print(\"Total SVC(RBF Kernel) model accuracy: \" , np.mean(acc_score_svc_rbf))  \n",
    "print(\"Total SVC(Linear) model accuracy: \" , np.mean(acc_score_svc_linear))  \n",
    "print(\"Total MLP model accuracy: \" , np.mean(acc_score_mlp))"
   ]
  },
  {
   "cell_type": "markdown",
   "id": "6dfac07f",
   "metadata": {},
   "source": [
    "# Conclusion: SVC(RBF Kernel) and MLP showed its strength in the cross-validation evaluation with a 98.1% accuracy as compared to SVC(Linear) with 97.9% accurancy"
   ]
  }
 ],
 "metadata": {
  "kernelspec": {
   "display_name": "Python 3 (ipykernel)",
   "language": "python",
   "name": "python3"
  },
  "language_info": {
   "codemirror_mode": {
    "name": "ipython",
    "version": 3
   },
   "file_extension": ".py",
   "mimetype": "text/x-python",
   "name": "python",
   "nbconvert_exporter": "python",
   "pygments_lexer": "ipython3",
   "version": "3.9.7"
  }
 },
 "nbformat": 4,
 "nbformat_minor": 5
}
