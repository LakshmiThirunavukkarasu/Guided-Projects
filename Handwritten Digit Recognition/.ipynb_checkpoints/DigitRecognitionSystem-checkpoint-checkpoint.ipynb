{
 "cells": [
  {
   "cell_type": "code",
   "execution_count": 1,
   "id": "396c3c5d",
   "metadata": {},
   "outputs": [],
   "source": [
    "from sklearn import datasets\n",
    "digits = datasets.load_digits()"
   ]
  },
  {
   "cell_type": "raw",
   "id": "5ce5ae88",
   "metadata": {},
   "source": [
    "https://thedatafrog.com/en/articles/handwritten-digit-recognition-scikit-learn/\n",
    "https://debuggercafe.com/image-classification-with-mnist-dataset/\n"
   ]
  },
  {
   "cell_type": "code",
   "execution_count": 2,
   "id": "47a8cf3a",
   "metadata": {},
   "outputs": [
    {
     "data": {
      "text/plain": [
       "['DESCR', 'data', 'feature_names', 'frame', 'images', 'target', 'target_names']"
      ]
     },
     "execution_count": 2,
     "metadata": {},
     "output_type": "execute_result"
    }
   ],
   "source": [
    "dir(digits)"
   ]
  },
  {
   "cell_type": "code",
   "execution_count": 3,
   "id": "b96891ee",
   "metadata": {},
   "outputs": [
    {
     "data": {
      "text/plain": [
       "(1797, 8, 8)"
      ]
     },
     "execution_count": 3,
     "metadata": {},
     "output_type": "execute_result"
    }
   ],
   "source": [
    "digits.images.shape"
   ]
  },
  {
   "cell_type": "code",
   "execution_count": 4,
   "id": "92b2e8e4",
   "metadata": {},
   "outputs": [
    {
     "data": {
      "image/png": "[encoded data removed]",
      "text/plain": [
       "<Figure size 432x288 with 1 Axes>"
      ]
     },
     "metadata": {
      "needs_background": "light"
     },
     "output_type": "display_data"
    }
   ],
   "source": [
    "import matplotlib.pyplot as plt\n",
    "#plt.imshow(digits.images[0],cmap='binary')\n",
    "plt.imshow(digits.images[0])\n",
    "plt.show()"
   ]
  },
  {
   "cell_type": "code",
   "execution_count": 5,
   "id": "3cecfa8f",
   "metadata": {},
   "outputs": [
    {
     "data": {
      "text/plain": [
       "0"
      ]
     },
     "execution_count": 5,
     "metadata": {},
     "output_type": "execute_result"
    }
   ],
   "source": [
    "#digits.target[0]\n",
    "digits.target_names[0]"
   ]
  },
  {
   "cell_type": "code",
   "execution_count": 6,
   "id": "c273755b",
   "metadata": {},
   "outputs": [
    {
     "name": "stdout",
     "output_type": "stream",
     "text": [
      "(1797,)\n",
      "[0 1 2 ... 8 9 8]\n"
     ]
    }
   ],
   "source": [
    "print(digits.target.shape)\n",
    "print(digits.target)"
   ]
  },
  {
   "cell_type": "code",
   "execution_count": 7,
   "id": "be6b88dc",
   "metadata": {},
   "outputs": [
    {
     "data": {
      "text/plain": [
       "(1797, 64)"
      ]
     },
     "execution_count": 7,
     "metadata": {},
     "output_type": "execute_result"
    }
   ],
   "source": [
    "x = digits.images.reshape((len(digits.images), -1))\n",
    "x.shape"
   ]
  },
  {
   "cell_type": "code",
   "execution_count": 8,
   "id": "235d1875",
   "metadata": {},
   "outputs": [
    {
     "data": {
      "text/plain": [
       "(1797,)"
      ]
     },
     "execution_count": 8,
     "metadata": {},
     "output_type": "execute_result"
    }
   ],
   "source": [
    "y = digits.target\n",
    "y.shape"
   ]
  },
  {
   "cell_type": "code",
   "execution_count": 9,
   "id": "9a30576b",
   "metadata": {},
   "outputs": [],
   "source": [
    "x_train = x[:1000]\n",
    "y_train = y[:1000]\n",
    "x_test = x[1000:]\n",
    "y_test = y[1000:]"
   ]
  },
  {
   "cell_type": "code",
   "execution_count": 10,
   "id": "af79278f",
   "metadata": {},
   "outputs": [],
   "source": [
    "from sklearn.neural_network import MLPClassifier\n",
    "\n",
    "mlp = MLPClassifier(hidden_layer_sizes=(15,), activation='logistic', alpha=1e-4,\n",
    "                    solver='sgd', tol=1e-4, random_state=1,\n",
    "                    learning_rate_init=.1, verbose=True)"
   ]
  },
  {
   "cell_type": "code",
   "execution_count": 11,
   "id": "26468e7b",
   "metadata": {},
   "outputs": [
    {
     "name": "stdout",
     "output_type": "stream",
     "text": [
      "Iteration 1, loss = 2.22958289\n",
      "Iteration 2, loss = 1.91207743\n",
      "Iteration 3, loss = 1.62507727\n",
      "Iteration 4, loss = 1.32649842\n",
      "Iteration 5, loss = 1.06100535\n",
      "Iteration 6, loss = 0.83995513\n",
      "Iteration 7, loss = 0.67806075\n",
      "Iteration 8, loss = 0.55175832\n",
      "Iteration 9, loss = 0.45840445\n",
      "Iteration 10, loss = 0.39149735\n",
      "Iteration 11, loss = 0.33676351\n",
      "Iteration 12, loss = 0.29059880\n",
      "Iteration 13, loss = 0.25437208\n",
      "Iteration 14, loss = 0.22838372\n",
      "Iteration 15, loss = 0.20200554\n",
      "Iteration 16, loss = 0.18186565\n",
      "Iteration 17, loss = 0.16461183\n",
      "Iteration 18, loss = 0.14990228\n",
      "Iteration 19, loss = 0.13892154\n",
      "Iteration 20, loss = 0.12833784\n",
      "Iteration 21, loss = 0.12138920\n",
      "Iteration 22, loss = 0.11407971\n",
      "Iteration 23, loss = 0.10677664\n",
      "Iteration 24, loss = 0.10037149\n",
      "Iteration 25, loss = 0.09593187\n",
      "Iteration 26, loss = 0.09250135\n",
      "Iteration 27, loss = 0.08676698\n",
      "Iteration 28, loss = 0.08356043\n",
      "Iteration 29, loss = 0.08209789\n",
      "Iteration 30, loss = 0.07649168\n",
      "Iteration 31, loss = 0.07410898\n",
      "Iteration 32, loss = 0.07126869\n",
      "Iteration 33, loss = 0.06926956\n",
      "Iteration 34, loss = 0.06578496\n",
      "Iteration 35, loss = 0.06374913\n",
      "Iteration 36, loss = 0.06175492\n",
      "Iteration 37, loss = 0.05975664\n",
      "Iteration 38, loss = 0.05764485\n",
      "Iteration 39, loss = 0.05623663\n",
      "Iteration 40, loss = 0.05420966\n",
      "Iteration 41, loss = 0.05413911\n",
      "Iteration 42, loss = 0.05256140\n",
      "Iteration 43, loss = 0.05020265\n",
      "Iteration 44, loss = 0.04902779\n",
      "Iteration 45, loss = 0.04788382\n",
      "Iteration 46, loss = 0.04655532\n",
      "Iteration 47, loss = 0.04586089\n",
      "Iteration 48, loss = 0.04451758\n",
      "Iteration 49, loss = 0.04341598\n",
      "Iteration 50, loss = 0.04238096\n",
      "Iteration 51, loss = 0.04162200\n",
      "Iteration 52, loss = 0.04076839\n",
      "Iteration 53, loss = 0.04003180\n",
      "Iteration 54, loss = 0.03907774\n",
      "Iteration 55, loss = 0.03815565\n",
      "Iteration 56, loss = 0.03791975\n",
      "Iteration 57, loss = 0.03706276\n",
      "Iteration 58, loss = 0.03617874\n",
      "Iteration 59, loss = 0.03593227\n",
      "Iteration 60, loss = 0.03504175\n",
      "Iteration 61, loss = 0.03441259\n",
      "Iteration 62, loss = 0.03397449\n",
      "Iteration 63, loss = 0.03326990\n",
      "Iteration 64, loss = 0.03305025\n",
      "Iteration 65, loss = 0.03244893\n",
      "Iteration 66, loss = 0.03191504\n",
      "Iteration 67, loss = 0.03132169\n",
      "Iteration 68, loss = 0.03079707\n",
      "Iteration 69, loss = 0.03044946\n",
      "Iteration 70, loss = 0.03005546\n",
      "Iteration 71, loss = 0.02960555\n",
      "Iteration 72, loss = 0.02912799\n",
      "Iteration 73, loss = 0.02859103\n",
      "Iteration 74, loss = 0.02825959\n",
      "Iteration 75, loss = 0.02788968\n",
      "Iteration 76, loss = 0.02748725\n",
      "Iteration 77, loss = 0.02721247\n",
      "Iteration 78, loss = 0.02686225\n",
      "Iteration 79, loss = 0.02635636\n",
      "Iteration 80, loss = 0.02607439\n",
      "Iteration 81, loss = 0.02577613\n",
      "Iteration 82, loss = 0.02553642\n",
      "Iteration 83, loss = 0.02518749\n",
      "Iteration 84, loss = 0.02484300\n",
      "Iteration 85, loss = 0.02455379\n",
      "Iteration 86, loss = 0.02432480\n",
      "Iteration 87, loss = 0.02398548\n",
      "Iteration 88, loss = 0.02376004\n",
      "Iteration 89, loss = 0.02341261\n",
      "Iteration 90, loss = 0.02318255\n",
      "Iteration 91, loss = 0.02296065\n",
      "Iteration 92, loss = 0.02274048\n",
      "Iteration 93, loss = 0.02241054\n",
      "Iteration 94, loss = 0.02208181\n",
      "Iteration 95, loss = 0.02190861\n",
      "Iteration 96, loss = 0.02174404\n",
      "Iteration 97, loss = 0.02156939\n",
      "Iteration 98, loss = 0.02119768\n",
      "Iteration 99, loss = 0.02101874\n",
      "Iteration 100, loss = 0.02078230\n",
      "Iteration 101, loss = 0.02061573\n",
      "Iteration 102, loss = 0.02039802\n",
      "Iteration 103, loss = 0.02017245\n",
      "Iteration 104, loss = 0.01997162\n",
      "Iteration 105, loss = 0.01989280\n",
      "Iteration 106, loss = 0.01963828\n",
      "Iteration 107, loss = 0.01941850\n",
      "Iteration 108, loss = 0.01933154\n",
      "Iteration 109, loss = 0.01911473\n",
      "Iteration 110, loss = 0.01905371\n",
      "Iteration 111, loss = 0.01876085\n",
      "Iteration 112, loss = 0.01860656\n",
      "Iteration 113, loss = 0.01848655\n",
      "Iteration 114, loss = 0.01834844\n",
      "Iteration 115, loss = 0.01818981\n",
      "Iteration 116, loss = 0.01798523\n",
      "Iteration 117, loss = 0.01783630\n",
      "Iteration 118, loss = 0.01771441\n",
      "Iteration 119, loss = 0.01749814\n",
      "Iteration 120, loss = 0.01738339\n",
      "Iteration 121, loss = 0.01726549\n",
      "Iteration 122, loss = 0.01709638\n",
      "Iteration 123, loss = 0.01698340\n",
      "Iteration 124, loss = 0.01684606\n",
      "Iteration 125, loss = 0.01667016\n",
      "Iteration 126, loss = 0.01654172\n",
      "Iteration 127, loss = 0.01641832\n",
      "Iteration 128, loss = 0.01630111\n",
      "Iteration 129, loss = 0.01623051\n",
      "Iteration 130, loss = 0.01612736\n",
      "Iteration 131, loss = 0.01590220\n",
      "Iteration 132, loss = 0.01582485\n",
      "Iteration 133, loss = 0.01571372\n",
      "Iteration 134, loss = 0.01560349\n",
      "Iteration 135, loss = 0.01557688\n",
      "Iteration 136, loss = 0.01534420\n",
      "Iteration 137, loss = 0.01527883\n",
      "Iteration 138, loss = 0.01517545\n",
      "Iteration 139, loss = 0.01503663\n",
      "Iteration 140, loss = 0.01501192\n",
      "Iteration 141, loss = 0.01482535\n",
      "Iteration 142, loss = 0.01471388\n",
      "Iteration 143, loss = 0.01463948\n",
      "Iteration 144, loss = 0.01454059\n",
      "Iteration 145, loss = 0.01441742\n",
      "Iteration 146, loss = 0.01431741\n",
      "Iteration 147, loss = 0.01428414\n",
      "Iteration 148, loss = 0.01416364\n",
      "Iteration 149, loss = 0.01406742\n",
      "Iteration 150, loss = 0.01402651\n",
      "Iteration 151, loss = 0.01389720\n",
      "Iteration 152, loss = 0.01381412\n",
      "Iteration 153, loss = 0.01371300\n",
      "Iteration 154, loss = 0.01362465\n",
      "Iteration 155, loss = 0.01357048\n",
      "Iteration 156, loss = 0.01348760\n",
      "Iteration 157, loss = 0.01339543\n",
      "Iteration 158, loss = 0.01331941\n",
      "Iteration 159, loss = 0.01320812\n",
      "Iteration 160, loss = 0.01315415\n",
      "Iteration 161, loss = 0.01308279\n",
      "Iteration 162, loss = 0.01302708\n",
      "Iteration 163, loss = 0.01290042\n",
      "Iteration 164, loss = 0.01289267\n",
      "Iteration 165, loss = 0.01277558\n",
      "Iteration 166, loss = 0.01277238\n",
      "Iteration 167, loss = 0.01261308\n",
      "Iteration 168, loss = 0.01260611\n",
      "Iteration 169, loss = 0.01248789\n",
      "Iteration 170, loss = 0.01239662\n",
      "Iteration 171, loss = 0.01231743\n",
      "Iteration 172, loss = 0.01227346\n",
      "Iteration 173, loss = 0.01223136\n",
      "Iteration 174, loss = 0.01217211\n",
      "Iteration 175, loss = 0.01208682\n",
      "Iteration 176, loss = 0.01204707\n",
      "Iteration 177, loss = 0.01200225\n",
      "Iteration 178, loss = 0.01188677\n",
      "Iteration 179, loss = 0.01184993\n",
      "Iteration 180, loss = 0.01175130\n",
      "Iteration 181, loss = 0.01171178\n",
      "Iteration 182, loss = 0.01166052\n",
      "Iteration 183, loss = 0.01163843\n",
      "Iteration 184, loss = 0.01154892\n",
      "Iteration 185, loss = 0.01147629\n",
      "Iteration 186, loss = 0.01142365\n",
      "Iteration 187, loss = 0.01136608\n",
      "Iteration 188, loss = 0.01128053\n",
      "Iteration 189, loss = 0.01128869\n",
      "Training loss did not improve more than tol=0.000100 for 10 consecutive epochs. Stopping.\n"
     ]
    },
    {
     "data": {
      "text/plain": [
       "MLPClassifier(activation='logistic', hidden_layer_sizes=(15,),\n",
       "              learning_rate_init=0.1, random_state=1, solver='sgd',\n",
       "              verbose=True)"
      ]
     },
     "execution_count": 11,
     "metadata": {},
     "output_type": "execute_result"
    }
   ],
   "source": [
    "mlp.fit(x_train,y_train)"
   ]
  },
  {
   "cell_type": "code",
   "execution_count": 12,
   "id": "13cd62ab",
   "metadata": {},
   "outputs": [
    {
     "data": {
      "text/plain": [
       "array([1, 4, 0, 5, 3, 6, 9, 6, 1, 7, 5, 4, 4, 7, 2, 8, 2, 2, 5, 7, 9, 5,\n",
       "       4, 4, 9, 0, 8, 9, 8, 0, 1, 2, 3, 4, 5, 6, 7, 8, 3, 0, 1, 2, 3, 4,\n",
       "       5, 6, 7, 8, 5, 0])"
      ]
     },
     "execution_count": 12,
     "metadata": {},
     "output_type": "execute_result"
    }
   ],
   "source": [
    "predictions = mlp.predict(x_test)\n",
    "predictions[:50] \n",
    "# we just look at the 1st 50 examples in the test sample"
   ]
  },
  {
   "cell_type": "code",
   "execution_count": 13,
   "id": "6a3fa2ab",
   "metadata": {},
   "outputs": [],
   "source": [
    "from sklearn.neural_network import MLPClassifier\n",
    "\n",
    "mlp = MLPClassifier(hidden_layer_sizes=(30,15), activation='relu', alpha=0.0001,\n",
    "                    solver='adam', tol=1e-4, random_state=1,momentum =0.8,\n",
    "                    learning_rate_init=.001, verbose=True)"
   ]
  },
  {
   "cell_type": "code",
   "execution_count": 14,
   "id": "a57f7539",
   "metadata": {},
   "outputs": [
    {
     "name": "stdout",
     "output_type": "stream",
     "text": [
      "Iteration 1, loss = 5.31743715\n",
      "Iteration 2, loss = 4.02760223\n",
      "Iteration 3, loss = 3.28219748\n",
      "Iteration 4, loss = 2.73520320\n",
      "Iteration 5, loss = 2.34259034\n",
      "Iteration 6, loss = 2.08477830\n",
      "Iteration 7, loss = 1.93811031\n",
      "Iteration 8, loss = 1.84477945\n",
      "Iteration 9, loss = 1.77932339\n",
      "Iteration 10, loss = 1.71848123\n",
      "Iteration 11, loss = 1.66129331\n",
      "Iteration 12, loss = 1.60208151\n",
      "Iteration 13, loss = 1.54318422\n",
      "Iteration 14, loss = 1.47813468\n",
      "Iteration 15, loss = 1.41909185\n",
      "Iteration 16, loss = 1.36160550\n",
      "Iteration 17, loss = 1.29757336\n",
      "Iteration 18, loss = 1.23038793\n",
      "Iteration 19, loss = 1.16068546\n",
      "Iteration 20, loss = 1.09827261\n",
      "Iteration 21, loss = 1.03560640\n",
      "Iteration 22, loss = 0.97889026\n",
      "Iteration 23, loss = 0.92684718\n",
      "Iteration 24, loss = 0.87734425\n",
      "Iteration 25, loss = 0.83298014\n",
      "Iteration 26, loss = 0.79310909\n",
      "Iteration 27, loss = 0.75598087\n",
      "Iteration 28, loss = 0.71954110\n",
      "Iteration 29, loss = 0.68533546\n",
      "Iteration 30, loss = 0.65282043\n",
      "Iteration 31, loss = 0.62165588\n",
      "Iteration 32, loss = 0.58948626\n",
      "Iteration 33, loss = 0.56071010\n",
      "Iteration 34, loss = 0.53387778\n",
      "Iteration 35, loss = 0.50744674\n",
      "Iteration 36, loss = 0.48018622\n",
      "Iteration 37, loss = 0.45000721\n",
      "Iteration 38, loss = 0.41833590\n",
      "Iteration 39, loss = 0.38783918\n",
      "Iteration 40, loss = 0.36135891\n",
      "Iteration 41, loss = 0.34073699\n",
      "Iteration 42, loss = 0.32086458\n",
      "Iteration 43, loss = 0.30305286\n",
      "Iteration 44, loss = 0.28593335\n",
      "Iteration 45, loss = 0.27226983\n",
      "Iteration 46, loss = 0.25812306\n",
      "Iteration 47, loss = 0.24592444\n",
      "Iteration 48, loss = 0.23516836\n",
      "Iteration 49, loss = 0.22455134\n",
      "Iteration 50, loss = 0.21526942\n",
      "Iteration 51, loss = 0.20574848\n",
      "Iteration 52, loss = 0.19750606\n",
      "Iteration 53, loss = 0.18975507\n",
      "Iteration 54, loss = 0.18314490\n",
      "Iteration 55, loss = 0.17613389\n",
      "Iteration 56, loss = 0.17049019\n",
      "Iteration 57, loss = 0.16403265\n",
      "Iteration 58, loss = 0.15942425\n",
      "Iteration 59, loss = 0.15416946\n",
      "Iteration 60, loss = 0.14914024\n",
      "Iteration 61, loss = 0.14480252\n",
      "Iteration 62, loss = 0.14067499\n",
      "Iteration 63, loss = 0.13690383\n",
      "Iteration 64, loss = 0.13308875\n",
      "Iteration 65, loss = 0.12911954\n",
      "Iteration 66, loss = 0.12565683\n",
      "Iteration 67, loss = 0.12188858\n",
      "Iteration 68, loss = 0.11883999\n",
      "Iteration 69, loss = 0.11455289\n",
      "Iteration 70, loss = 0.11085860\n",
      "Iteration 71, loss = 0.10769424\n",
      "Iteration 72, loss = 0.10423581\n",
      "Iteration 73, loss = 0.10072646\n",
      "Iteration 74, loss = 0.09769292\n",
      "Iteration 75, loss = 0.09449442\n",
      "Iteration 76, loss = 0.09155980\n",
      "Iteration 77, loss = 0.08974856\n",
      "Iteration 78, loss = 0.08691062\n",
      "Iteration 79, loss = 0.08384537\n",
      "Iteration 80, loss = 0.08132612\n",
      "Iteration 81, loss = 0.07833354\n",
      "Iteration 82, loss = 0.07591890\n",
      "Iteration 83, loss = 0.07410881\n",
      "Iteration 84, loss = 0.07159152\n",
      "Iteration 85, loss = 0.06915609\n",
      "Iteration 86, loss = 0.06714849\n",
      "Iteration 87, loss = 0.06559831\n",
      "Iteration 88, loss = 0.06381729\n",
      "Iteration 89, loss = 0.06182140\n",
      "Iteration 90, loss = 0.06018302\n",
      "Iteration 91, loss = 0.05873539\n",
      "Iteration 92, loss = 0.05706869\n",
      "Iteration 93, loss = 0.05564294\n",
      "Iteration 94, loss = 0.05434603\n",
      "Iteration 95, loss = 0.05299817\n",
      "Iteration 96, loss = 0.05202069\n",
      "Iteration 97, loss = 0.05062484\n",
      "Iteration 98, loss = 0.04923429\n",
      "Iteration 99, loss = 0.04834033\n",
      "Iteration 100, loss = 0.04680649\n",
      "Iteration 101, loss = 0.04590389\n",
      "Iteration 102, loss = 0.04479943\n",
      "Iteration 103, loss = 0.04365343\n",
      "Iteration 104, loss = 0.04301868\n",
      "Iteration 105, loss = 0.04171570\n",
      "Iteration 106, loss = 0.04123352\n",
      "Iteration 107, loss = 0.03991892\n",
      "Iteration 108, loss = 0.03928644\n",
      "Iteration 109, loss = 0.03807801\n",
      "Iteration 110, loss = 0.03742026\n",
      "Iteration 111, loss = 0.03639525\n",
      "Iteration 112, loss = 0.03557469\n",
      "Iteration 113, loss = 0.03508032\n",
      "Iteration 114, loss = 0.03446589\n",
      "Iteration 115, loss = 0.03342018\n",
      "Iteration 116, loss = 0.03264984\n",
      "Iteration 117, loss = 0.03200182\n",
      "Iteration 118, loss = 0.03131293\n",
      "Iteration 119, loss = 0.03060038\n",
      "Iteration 120, loss = 0.03003433\n",
      "Iteration 121, loss = 0.02955831\n",
      "Iteration 122, loss = 0.02889162\n",
      "Iteration 123, loss = 0.02808639\n",
      "Iteration 124, loss = 0.02766208\n",
      "Iteration 125, loss = 0.02721276\n",
      "Iteration 126, loss = 0.02635295\n",
      "Iteration 127, loss = 0.02613525\n",
      "Iteration 128, loss = 0.02521027\n",
      "Iteration 129, loss = 0.02477727\n",
      "Iteration 130, loss = 0.02430993\n",
      "Iteration 131, loss = 0.02368426\n",
      "Iteration 132, loss = 0.02317984\n",
      "Iteration 133, loss = 0.02254570\n",
      "Iteration 134, loss = 0.02214087\n",
      "Iteration 135, loss = 0.02177184\n",
      "Iteration 136, loss = 0.02140208\n",
      "Iteration 137, loss = 0.02081258\n",
      "Iteration 138, loss = 0.02050001\n",
      "Iteration 139, loss = 0.01997728\n",
      "Iteration 140, loss = 0.01956691\n",
      "Iteration 141, loss = 0.01915730\n",
      "Iteration 142, loss = 0.01869119\n",
      "Iteration 143, loss = 0.01834492\n",
      "Iteration 144, loss = 0.01802515\n",
      "Iteration 145, loss = 0.01774747\n",
      "Iteration 146, loss = 0.01736425\n",
      "Iteration 147, loss = 0.01702191\n",
      "Iteration 148, loss = 0.01679225\n",
      "Iteration 149, loss = 0.01646266\n",
      "Iteration 150, loss = 0.01601402\n",
      "Iteration 151, loss = 0.01573030\n",
      "Iteration 152, loss = 0.01537983\n",
      "Iteration 153, loss = 0.01502973\n",
      "Iteration 154, loss = 0.01478777\n",
      "Iteration 155, loss = 0.01465650\n",
      "Iteration 156, loss = 0.01426152\n",
      "Iteration 157, loss = 0.01399212\n",
      "Iteration 158, loss = 0.01373110\n",
      "Iteration 159, loss = 0.01339272\n",
      "Iteration 160, loss = 0.01315206\n",
      "Iteration 161, loss = 0.01302013\n",
      "Iteration 162, loss = 0.01273149\n",
      "Iteration 163, loss = 0.01253752\n",
      "Iteration 164, loss = 0.01227523\n",
      "Iteration 165, loss = 0.01201602\n",
      "Iteration 166, loss = 0.01178662\n",
      "Iteration 167, loss = 0.01156320\n",
      "Iteration 168, loss = 0.01142645\n",
      "Iteration 169, loss = 0.01115844\n",
      "Iteration 170, loss = 0.01094487\n",
      "Iteration 171, loss = 0.01067400\n",
      "Iteration 172, loss = 0.01043905\n",
      "Iteration 173, loss = 0.01025207\n",
      "Iteration 174, loss = 0.01005421\n",
      "Iteration 175, loss = 0.00987187\n",
      "Iteration 176, loss = 0.00975814\n",
      "Iteration 177, loss = 0.00958029\n",
      "Iteration 178, loss = 0.00931635\n",
      "Iteration 179, loss = 0.00914196\n",
      "Iteration 180, loss = 0.00894605\n",
      "Iteration 181, loss = 0.00882081\n",
      "Iteration 182, loss = 0.00865977\n",
      "Iteration 183, loss = 0.00851735\n",
      "Iteration 184, loss = 0.00834208\n",
      "Iteration 185, loss = 0.00821062\n",
      "Iteration 186, loss = 0.00807427\n",
      "Iteration 187, loss = 0.00795262\n",
      "Iteration 188, loss = 0.00780612\n",
      "Iteration 189, loss = 0.00766549\n",
      "Iteration 190, loss = 0.00759272\n",
      "Iteration 191, loss = 0.00743377\n",
      "Iteration 192, loss = 0.00734622\n",
      "Iteration 193, loss = 0.00716819\n",
      "Iteration 194, loss = 0.00704425\n",
      "Iteration 195, loss = 0.00694279\n",
      "Iteration 196, loss = 0.00684436\n",
      "Iteration 197, loss = 0.00671848\n",
      "Iteration 198, loss = 0.00661508\n",
      "Iteration 199, loss = 0.00653862\n",
      "Iteration 200, loss = 0.00641766\n"
     ]
    },
    {
     "name": "stderr",
     "output_type": "stream",
     "text": [
      "C:\\Users\\venka\\anaconda3\\lib\\site-packages\\sklearn\\neural_network\\_multilayer_perceptron.py:614: ConvergenceWarning: Stochastic Optimizer: Maximum iterations (200) reached and the optimization hasn't converged yet.\n",
      "  warnings.warn(\n"
     ]
    },
    {
     "data": {
      "text/plain": [
       "MLPClassifier(hidden_layer_sizes=(30, 15), momentum=0.8, random_state=1,\n",
       "              verbose=True)"
      ]
     },
     "execution_count": 14,
     "metadata": {},
     "output_type": "execute_result"
    }
   ],
   "source": [
    "mlp.fit(x_train,y_train)"
   ]
  },
  {
   "cell_type": "code",
   "execution_count": 15,
   "id": "bb3ce445",
   "metadata": {},
   "outputs": [
    {
     "data": {
      "text/plain": [
       "array([1, 4, 0, 5, 3, 6, 9, 6, 1, 7, 5, 4, 4, 7, 2, 8, 2, 2, 5, 7, 9, 5,\n",
       "       4, 4, 9, 0, 8, 9, 8, 0, 1, 2, 3, 4, 5, 6, 7, 8, 9, 0, 1, 2, 3, 4,\n",
       "       5, 6, 7, 8, 9, 0])"
      ]
     },
     "execution_count": 15,
     "metadata": {},
     "output_type": "execute_result"
    }
   ],
   "source": [
    "y_test[:50] "
   ]
  },
  {
   "cell_type": "code",
   "execution_count": 16,
   "id": "f38e73eb",
   "metadata": {},
   "outputs": [],
   "source": [
    "predictions = mlp.predict(x_test)"
   ]
  },
  {
   "cell_type": "code",
   "execution_count": 17,
   "id": "da3918ea",
   "metadata": {},
   "outputs": [
    {
     "data": {
      "text/plain": [
       "0.9209535759096612"
      ]
     },
     "execution_count": 17,
     "metadata": {},
     "output_type": "execute_result"
    }
   ],
   "source": [
    "from sklearn.metrics import accuracy_score\n",
    "accuracy_score(y_test, predictions)"
   ]
  },
  {
   "cell_type": "code",
   "execution_count": 18,
   "id": "6ba882bf",
   "metadata": {},
   "outputs": [],
   "source": [
    "from sklearn.model_selection import train_test_split\n",
    "from sklearn.svm import SVC"
   ]
  },
  {
   "cell_type": "code",
   "execution_count": 19,
   "id": "b67d0210",
   "metadata": {},
   "outputs": [
    {
     "data": {
      "text/plain": [
       "SVC(kernel='linear')"
      ]
     },
     "execution_count": 19,
     "metadata": {},
     "output_type": "execute_result"
    }
   ],
   "source": [
    "# linear model\n",
    "\n",
    "model_linear = SVC(kernel='linear')\n",
    "model_linear.fit(x_train, y_train)"
   ]
  },
  {
   "cell_type": "code",
   "execution_count": 20,
   "id": "35a3d727",
   "metadata": {},
   "outputs": [],
   "source": [
    "# predict\n",
    "y_pred = model_linear.predict(x_test)"
   ]
  },
  {
   "cell_type": "code",
   "execution_count": 21,
   "id": "09a603ea",
   "metadata": {},
   "outputs": [
    {
     "data": {
      "text/plain": [
       "0.9422835633626098"
      ]
     },
     "execution_count": 21,
     "metadata": {},
     "output_type": "execute_result"
    }
   ],
   "source": [
    "accuracy_score(y_test, y_pred)"
   ]
  },
  {
   "cell_type": "code",
   "execution_count": 22,
   "id": "490e3654",
   "metadata": {},
   "outputs": [
    {
     "data": {
      "text/plain": [
       "SVC()"
      ]
     },
     "execution_count": 22,
     "metadata": {},
     "output_type": "execute_result"
    }
   ],
   "source": [
    "# non-linear model\n",
    "# using rbf kernel, C=1, default value of gamma\n",
    "\n",
    "# model\n",
    "non_linear_model = SVC(kernel='rbf')\n",
    "\n",
    "# fit\n",
    "non_linear_model.fit(x_train, y_train)"
   ]
  },
  {
   "cell_type": "code",
   "execution_count": 23,
   "id": "6759b245",
   "metadata": {},
   "outputs": [],
   "source": [
    "y_pred = non_linear_model.predict(x_test)"
   ]
  },
  {
   "cell_type": "code",
   "execution_count": 24,
   "id": "ef3b0c11",
   "metadata": {},
   "outputs": [
    {
     "data": {
      "text/plain": [
       "0.9598494353826851"
      ]
     },
     "execution_count": 24,
     "metadata": {},
     "output_type": "execute_result"
    }
   ],
   "source": [
    "accuracy_score(y_test, y_pred)"
   ]
  },
  {
   "cell_type": "code",
   "execution_count": 25,
   "id": "70ffaa8a",
   "metadata": {},
   "outputs": [
    {
     "name": "stdout",
     "output_type": "stream",
     "text": [
      "Fitting 5 folds for each of 6 candidates, totalling 30 fits\n"
     ]
    },
    {
     "data": {
      "text/plain": [
       "GridSearchCV(cv=KFold(n_splits=5, random_state=10, shuffle=True),\n",
       "             estimator=SVC(),\n",
       "             param_grid=[{'C': [5, 10], 'gamma': [0.01, 0.001, 0.0001]}],\n",
       "             return_train_score=True, scoring='accuracy', verbose=1)"
      ]
     },
     "execution_count": 25,
     "metadata": {},
     "output_type": "execute_result"
    }
   ],
   "source": [
    "from sklearn.model_selection import KFold\n",
    "from sklearn.model_selection import GridSearchCV\n",
    "\n",
    "# creating a KFold object with 5 splits \n",
    "folds = KFold(n_splits = 5, shuffle = True, random_state = 10)\n",
    "\n",
    "# specify range of hyperparameters\n",
    "# Set the parameters by cross-validation\n",
    "hyper_params = [ {'gamma': [1e-2, 1e-3, 1e-4],\n",
    "                     'C': [5,10]}]\n",
    "\n",
    "# specify model\n",
    "model = SVC(kernel=\"rbf\")\n",
    "\n",
    "# set up GridSearchCV()\n",
    "model_cv = GridSearchCV(estimator = model, \n",
    "                        param_grid = hyper_params, \n",
    "                        scoring= 'accuracy', \n",
    "                        cv = folds, \n",
    "                        verbose = 1,\n",
    "                        return_train_score=True)      \n",
    "\n",
    "# fit the model\n",
    "model_cv.fit(x_train, y_train)"
   ]
  },
  {
   "cell_type": "code",
   "execution_count": 26,
   "id": "f814d091",
   "metadata": {},
   "outputs": [
    {
     "data": {
      "text/html": [
       "<div>\n",
       "<style scoped>\n",
       "    .dataframe tbody tr th:only-of-type {\n",
       "        vertical-align: middle;\n",
       "    }\n",
       "\n",
       "    .dataframe tbody tr th {\n",
       "        vertical-align: top;\n",
       "    }\n",
       "\n",
       "    .dataframe thead th {\n",
       "        text-align: right;\n",
       "    }\n",
       "</style>\n",
       "<table border=\"1\" class=\"dataframe\">\n",
       "  <thead>\n",
       "    <tr style=\"text-align: right;\">\n",
       "      <th></th>\n",
       "      <th>mean_fit_time</th>\n",
       "      <th>std_fit_time</th>\n",
       "      <th>mean_score_time</th>\n",
       "      <th>std_score_time</th>\n",
       "      <th>param_C</th>\n",
       "      <th>param_gamma</th>\n",
       "      <th>params</th>\n",
       "      <th>split0_test_score</th>\n",
       "      <th>split1_test_score</th>\n",
       "      <th>split2_test_score</th>\n",
       "      <th>...</th>\n",
       "      <th>mean_test_score</th>\n",
       "      <th>std_test_score</th>\n",
       "      <th>rank_test_score</th>\n",
       "      <th>split0_train_score</th>\n",
       "      <th>split1_train_score</th>\n",
       "      <th>split2_train_score</th>\n",
       "      <th>split3_train_score</th>\n",
       "      <th>split4_train_score</th>\n",
       "      <th>mean_train_score</th>\n",
       "      <th>std_train_score</th>\n",
       "    </tr>\n",
       "  </thead>\n",
       "  <tbody>\n",
       "    <tr>\n",
       "      <th>0</th>\n",
       "      <td>0.195008</td>\n",
       "      <td>0.021844</td>\n",
       "      <td>0.049668</td>\n",
       "      <td>0.001164</td>\n",
       "      <td>5</td>\n",
       "      <td>0.01</td>\n",
       "      <td>{'C': 5, 'gamma': 0.01}</td>\n",
       "      <td>0.760</td>\n",
       "      <td>0.685</td>\n",
       "      <td>0.745</td>\n",
       "      <td>...</td>\n",
       "      <td>0.730</td>\n",
       "      <td>0.025884</td>\n",
       "      <td>5</td>\n",
       "      <td>1.00000</td>\n",
       "      <td>1.00000</td>\n",
       "      <td>1.00000</td>\n",
       "      <td>1.00000</td>\n",
       "      <td>1.00000</td>\n",
       "      <td>1.000</td>\n",
       "      <td>0.000000</td>\n",
       "    </tr>\n",
       "    <tr>\n",
       "      <th>1</th>\n",
       "      <td>0.070809</td>\n",
       "      <td>0.002275</td>\n",
       "      <td>0.030118</td>\n",
       "      <td>0.000747</td>\n",
       "      <td>5</td>\n",
       "      <td>0.001</td>\n",
       "      <td>{'C': 5, 'gamma': 0.001}</td>\n",
       "      <td>1.000</td>\n",
       "      <td>0.990</td>\n",
       "      <td>0.990</td>\n",
       "      <td>...</td>\n",
       "      <td>0.991</td>\n",
       "      <td>0.004899</td>\n",
       "      <td>1</td>\n",
       "      <td>1.00000</td>\n",
       "      <td>1.00000</td>\n",
       "      <td>1.00000</td>\n",
       "      <td>1.00000</td>\n",
       "      <td>1.00000</td>\n",
       "      <td>1.000</td>\n",
       "      <td>0.000000</td>\n",
       "    </tr>\n",
       "    <tr>\n",
       "      <th>2</th>\n",
       "      <td>0.037898</td>\n",
       "      <td>0.000631</td>\n",
       "      <td>0.023537</td>\n",
       "      <td>0.000489</td>\n",
       "      <td>5</td>\n",
       "      <td>0.0001</td>\n",
       "      <td>{'C': 5, 'gamma': 0.0001}</td>\n",
       "      <td>0.995</td>\n",
       "      <td>0.980</td>\n",
       "      <td>0.990</td>\n",
       "      <td>...</td>\n",
       "      <td>0.987</td>\n",
       "      <td>0.005099</td>\n",
       "      <td>4</td>\n",
       "      <td>0.99750</td>\n",
       "      <td>0.99750</td>\n",
       "      <td>0.99750</td>\n",
       "      <td>0.99625</td>\n",
       "      <td>0.99625</td>\n",
       "      <td>0.997</td>\n",
       "      <td>0.000612</td>\n",
       "    </tr>\n",
       "    <tr>\n",
       "      <th>3</th>\n",
       "      <td>0.180319</td>\n",
       "      <td>0.000400</td>\n",
       "      <td>0.048670</td>\n",
       "      <td>0.000399</td>\n",
       "      <td>10</td>\n",
       "      <td>0.01</td>\n",
       "      <td>{'C': 10, 'gamma': 0.01}</td>\n",
       "      <td>0.760</td>\n",
       "      <td>0.685</td>\n",
       "      <td>0.745</td>\n",
       "      <td>...</td>\n",
       "      <td>0.730</td>\n",
       "      <td>0.025884</td>\n",
       "      <td>5</td>\n",
       "      <td>1.00000</td>\n",
       "      <td>1.00000</td>\n",
       "      <td>1.00000</td>\n",
       "      <td>1.00000</td>\n",
       "      <td>1.00000</td>\n",
       "      <td>1.000</td>\n",
       "      <td>0.000000</td>\n",
       "    </tr>\n",
       "    <tr>\n",
       "      <th>4</th>\n",
       "      <td>0.073391</td>\n",
       "      <td>0.007240</td>\n",
       "      <td>0.030757</td>\n",
       "      <td>0.000762</td>\n",
       "      <td>10</td>\n",
       "      <td>0.001</td>\n",
       "      <td>{'C': 10, 'gamma': 0.001}</td>\n",
       "      <td>1.000</td>\n",
       "      <td>0.990</td>\n",
       "      <td>0.990</td>\n",
       "      <td>...</td>\n",
       "      <td>0.991</td>\n",
       "      <td>0.004899</td>\n",
       "      <td>1</td>\n",
       "      <td>1.00000</td>\n",
       "      <td>1.00000</td>\n",
       "      <td>1.00000</td>\n",
       "      <td>1.00000</td>\n",
       "      <td>1.00000</td>\n",
       "      <td>1.000</td>\n",
       "      <td>0.000000</td>\n",
       "    </tr>\n",
       "    <tr>\n",
       "      <th>5</th>\n",
       "      <td>0.038282</td>\n",
       "      <td>0.001347</td>\n",
       "      <td>0.024152</td>\n",
       "      <td>0.001464</td>\n",
       "      <td>10</td>\n",
       "      <td>0.0001</td>\n",
       "      <td>{'C': 10, 'gamma': 0.0001}</td>\n",
       "      <td>0.990</td>\n",
       "      <td>0.985</td>\n",
       "      <td>0.990</td>\n",
       "      <td>...</td>\n",
       "      <td>0.988</td>\n",
       "      <td>0.002449</td>\n",
       "      <td>3</td>\n",
       "      <td>0.99875</td>\n",
       "      <td>0.99875</td>\n",
       "      <td>0.99875</td>\n",
       "      <td>1.00000</td>\n",
       "      <td>0.99875</td>\n",
       "      <td>0.999</td>\n",
       "      <td>0.000500</td>\n",
       "    </tr>\n",
       "  </tbody>\n",
       "</table>\n",
       "<p>6 rows × 22 columns</p>\n",
       "</div>"
      ],
      "text/plain": [
       "   mean_fit_time  std_fit_time  mean_score_time  std_score_time param_C  \\\n",
       "0       0.195008      0.021844         0.049668        0.001164       5   \n",
       "1       0.070809      0.002275         0.030118        0.000747       5   \n",
       "2       0.037898      0.000631         0.023537        0.000489       5   \n",
       "3       0.180319      0.000400         0.048670        0.000399      10   \n",
       "4       0.073391      0.007240         0.030757        0.000762      10   \n",
       "5       0.038282      0.001347         0.024152        0.001464      10   \n",
       "\n",
       "  param_gamma                      params  split0_test_score  \\\n",
       "0        0.01     {'C': 5, 'gamma': 0.01}              0.760   \n",
       "1       0.001    {'C': 5, 'gamma': 0.001}              1.000   \n",
       "2      0.0001   {'C': 5, 'gamma': 0.0001}              0.995   \n",
       "3        0.01    {'C': 10, 'gamma': 0.01}              0.760   \n",
       "4       0.001   {'C': 10, 'gamma': 0.001}              1.000   \n",
       "5      0.0001  {'C': 10, 'gamma': 0.0001}              0.990   \n",
       "\n",
       "   split1_test_score  split2_test_score  ...  mean_test_score  std_test_score  \\\n",
       "0              0.685              0.745  ...            0.730        0.025884   \n",
       "1              0.990              0.990  ...            0.991        0.004899   \n",
       "2              0.980              0.990  ...            0.987        0.005099   \n",
       "3              0.685              0.745  ...            0.730        0.025884   \n",
       "4              0.990              0.990  ...            0.991        0.004899   \n",
       "5              0.985              0.990  ...            0.988        0.002449   \n",
       "\n",
       "   rank_test_score  split0_train_score  split1_train_score  \\\n",
       "0                5             1.00000             1.00000   \n",
       "1                1             1.00000             1.00000   \n",
       "2                4             0.99750             0.99750   \n",
       "3                5             1.00000             1.00000   \n",
       "4                1             1.00000             1.00000   \n",
       "5                3             0.99875             0.99875   \n",
       "\n",
       "   split2_train_score  split3_train_score  split4_train_score  \\\n",
       "0             1.00000             1.00000             1.00000   \n",
       "1             1.00000             1.00000             1.00000   \n",
       "2             0.99750             0.99625             0.99625   \n",
       "3             1.00000             1.00000             1.00000   \n",
       "4             1.00000             1.00000             1.00000   \n",
       "5             0.99875             1.00000             0.99875   \n",
       "\n",
       "   mean_train_score  std_train_score  \n",
       "0             1.000         0.000000  \n",
       "1             1.000         0.000000  \n",
       "2             0.997         0.000612  \n",
       "3             1.000         0.000000  \n",
       "4             1.000         0.000000  \n",
       "5             0.999         0.000500  \n",
       "\n",
       "[6 rows x 22 columns]"
      ]
     },
     "execution_count": 26,
     "metadata": {},
     "output_type": "execute_result"
    }
   ],
   "source": [
    "import pandas as pd\n",
    "# cv results\n",
    "cv_results = pd.DataFrame(model_cv.cv_results_)\n",
    "cv_results"
   ]
  },
  {
   "cell_type": "code",
   "execution_count": null,
   "id": "3804ca87",
   "metadata": {},
   "outputs": [],
   "source": []
  },
  {
   "cell_type": "code",
   "execution_count": null,
   "id": "f44c8643",
   "metadata": {},
   "outputs": [],
   "source": []
  }
 ],
 "metadata": {
  "kernelspec": {
   "display_name": "Python 3 (ipykernel)",
   "language": "python",
   "name": "python3"
  },
  "language_info": {
   "codemirror_mode": {
    "name": "ipython",
    "version": 3
   },
   "file_extension": ".py",
   "mimetype": "text/x-python",
   "name": "python",
   "nbconvert_exporter": "python",
   "pygments_lexer": "ipython3",
   "version": "3.9.7"
  }
 },
 "nbformat": 4,
 "nbformat_minor": 5
}
