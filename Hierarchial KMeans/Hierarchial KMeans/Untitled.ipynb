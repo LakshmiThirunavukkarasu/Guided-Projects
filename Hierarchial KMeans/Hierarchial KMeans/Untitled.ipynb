{
 "cells": [
  {
   "cell_type": "code",
   "execution_count": 2,
   "id": "8b0c94f7",
   "metadata": {},
   "outputs": [],
   "source": [
    "import numpy as np\n",
    "import pandas as pd"
   ]
  },
  {
   "cell_type": "code",
   "execution_count": 3,
   "id": "96f2b8e1",
   "metadata": {},
   "outputs": [
    {
     "data": {
      "text/html": [
       "<div>\n",
       "<style scoped>\n",
       "    .dataframe tbody tr th:only-of-type {\n",
       "        vertical-align: middle;\n",
       "    }\n",
       "\n",
       "    .dataframe tbody tr th {\n",
       "        vertical-align: top;\n",
       "    }\n",
       "\n",
       "    .dataframe thead th {\n",
       "        text-align: right;\n",
       "    }\n",
       "</style>\n",
       "<table border=\"1\" class=\"dataframe\">\n",
       "  <thead>\n",
       "    <tr style=\"text-align: right;\">\n",
       "      <th></th>\n",
       "      <th>Channel</th>\n",
       "      <th>Region</th>\n",
       "      <th>Fresh</th>\n",
       "      <th>Milk</th>\n",
       "      <th>Grocery</th>\n",
       "      <th>Frozen</th>\n",
       "      <th>Detergents_Paper</th>\n",
       "      <th>Delicassen</th>\n",
       "    </tr>\n",
       "  </thead>\n",
       "  <tbody>\n",
       "    <tr>\n",
       "      <th>0</th>\n",
       "      <td>2</td>\n",
       "      <td>3</td>\n",
       "      <td>12669</td>\n",
       "      <td>9656</td>\n",
       "      <td>7561</td>\n",
       "      <td>214</td>\n",
       "      <td>2674</td>\n",
       "      <td>1338</td>\n",
       "    </tr>\n",
       "    <tr>\n",
       "      <th>1</th>\n",
       "      <td>2</td>\n",
       "      <td>3</td>\n",
       "      <td>7057</td>\n",
       "      <td>9810</td>\n",
       "      <td>9568</td>\n",
       "      <td>1762</td>\n",
       "      <td>3293</td>\n",
       "      <td>1776</td>\n",
       "    </tr>\n",
       "    <tr>\n",
       "      <th>2</th>\n",
       "      <td>2</td>\n",
       "      <td>3</td>\n",
       "      <td>6353</td>\n",
       "      <td>8808</td>\n",
       "      <td>7684</td>\n",
       "      <td>2405</td>\n",
       "      <td>3516</td>\n",
       "      <td>7844</td>\n",
       "    </tr>\n",
       "    <tr>\n",
       "      <th>3</th>\n",
       "      <td>1</td>\n",
       "      <td>3</td>\n",
       "      <td>13265</td>\n",
       "      <td>1196</td>\n",
       "      <td>4221</td>\n",
       "      <td>6404</td>\n",
       "      <td>507</td>\n",
       "      <td>1788</td>\n",
       "    </tr>\n",
       "    <tr>\n",
       "      <th>4</th>\n",
       "      <td>2</td>\n",
       "      <td>3</td>\n",
       "      <td>22615</td>\n",
       "      <td>5410</td>\n",
       "      <td>7198</td>\n",
       "      <td>3915</td>\n",
       "      <td>1777</td>\n",
       "      <td>5185</td>\n",
       "    </tr>\n",
       "  </tbody>\n",
       "</table>\n",
       "</div>"
      ],
      "text/plain": [
       "   Channel  Region  Fresh  Milk  Grocery  Frozen  Detergents_Paper  Delicassen\n",
       "0        2       3  12669  9656     7561     214              2674        1338\n",
       "1        2       3   7057  9810     9568    1762              3293        1776\n",
       "2        2       3   6353  8808     7684    2405              3516        7844\n",
       "3        1       3  13265  1196     4221    6404               507        1788\n",
       "4        2       3  22615  5410     7198    3915              1777        5185"
      ]
     },
     "execution_count": 3,
     "metadata": {},
     "output_type": "execute_result"
    }
   ],
   "source": [
    "df = pd.read_csv(\"Wholesale customers data.csv\")\n",
    "df.head(5)"
   ]
  },
  {
   "cell_type": "code",
   "execution_count": 29,
   "id": "19e0fe8e",
   "metadata": {},
   "outputs": [
    {
     "data": {
      "text/plain": [
       "(440, 8)"
      ]
     },
     "execution_count": 29,
     "metadata": {},
     "output_type": "execute_result"
    }
   ],
   "source": [
    "df.shape"
   ]
  },
  {
   "cell_type": "code",
   "execution_count": 160,
   "id": "1960a552",
   "metadata": {},
   "outputs": [
    {
     "data": {
      "text/html": [
       "<div>\n",
       "<style scoped>\n",
       "    .dataframe tbody tr th:only-of-type {\n",
       "        vertical-align: middle;\n",
       "    }\n",
       "\n",
       "    .dataframe tbody tr th {\n",
       "        vertical-align: top;\n",
       "    }\n",
       "\n",
       "    .dataframe thead th {\n",
       "        text-align: right;\n",
       "    }\n",
       "</style>\n",
       "<table border=\"1\" class=\"dataframe\">\n",
       "  <thead>\n",
       "    <tr style=\"text-align: right;\">\n",
       "      <th></th>\n",
       "      <th>Channel</th>\n",
       "      <th>Region</th>\n",
       "      <th>Fresh</th>\n",
       "      <th>Milk</th>\n",
       "      <th>Grocery</th>\n",
       "      <th>Frozen</th>\n",
       "      <th>Detergents_Paper</th>\n",
       "      <th>Delicassen</th>\n",
       "    </tr>\n",
       "  </thead>\n",
       "  <tbody>\n",
       "    <tr>\n",
       "      <th>0</th>\n",
       "      <td>0.000112</td>\n",
       "      <td>0.000168</td>\n",
       "      <td>0.708333</td>\n",
       "      <td>0.539874</td>\n",
       "      <td>0.422741</td>\n",
       "      <td>0.011965</td>\n",
       "      <td>0.149505</td>\n",
       "      <td>0.074809</td>\n",
       "    </tr>\n",
       "    <tr>\n",
       "      <th>1</th>\n",
       "      <td>0.000125</td>\n",
       "      <td>0.000188</td>\n",
       "      <td>0.442198</td>\n",
       "      <td>0.614704</td>\n",
       "      <td>0.599540</td>\n",
       "      <td>0.110409</td>\n",
       "      <td>0.206342</td>\n",
       "      <td>0.111286</td>\n",
       "    </tr>\n",
       "    <tr>\n",
       "      <th>2</th>\n",
       "      <td>0.000125</td>\n",
       "      <td>0.000187</td>\n",
       "      <td>0.396552</td>\n",
       "      <td>0.549792</td>\n",
       "      <td>0.479632</td>\n",
       "      <td>0.150119</td>\n",
       "      <td>0.219467</td>\n",
       "      <td>0.489619</td>\n",
       "    </tr>\n",
       "    <tr>\n",
       "      <th>3</th>\n",
       "      <td>0.000065</td>\n",
       "      <td>0.000194</td>\n",
       "      <td>0.856837</td>\n",
       "      <td>0.077254</td>\n",
       "      <td>0.272650</td>\n",
       "      <td>0.413659</td>\n",
       "      <td>0.032749</td>\n",
       "      <td>0.115494</td>\n",
       "    </tr>\n",
       "    <tr>\n",
       "      <th>4</th>\n",
       "      <td>0.000079</td>\n",
       "      <td>0.000119</td>\n",
       "      <td>0.895416</td>\n",
       "      <td>0.214203</td>\n",
       "      <td>0.284997</td>\n",
       "      <td>0.155010</td>\n",
       "      <td>0.070358</td>\n",
       "      <td>0.205294</td>\n",
       "    </tr>\n",
       "  </tbody>\n",
       "</table>\n",
       "</div>"
      ],
      "text/plain": [
       "    Channel    Region     Fresh      Milk   Grocery    Frozen  \\\n",
       "0  0.000112  0.000168  0.708333  0.539874  0.422741  0.011965   \n",
       "1  0.000125  0.000188  0.442198  0.614704  0.599540  0.110409   \n",
       "2  0.000125  0.000187  0.396552  0.549792  0.479632  0.150119   \n",
       "3  0.000065  0.000194  0.856837  0.077254  0.272650  0.413659   \n",
       "4  0.000079  0.000119  0.895416  0.214203  0.284997  0.155010   \n",
       "\n",
       "   Detergents_Paper  Delicassen  \n",
       "0          0.149505    0.074809  \n",
       "1          0.206342    0.111286  \n",
       "2          0.219467    0.489619  \n",
       "3          0.032749    0.115494  \n",
       "4          0.070358    0.205294  "
      ]
     },
     "execution_count": 160,
     "metadata": {},
     "output_type": "execute_result"
    }
   ],
   "source": [
    "from sklearn.preprocessing import normalize\n",
    "df_scaled = normalize(df)\n",
    "df_scaled = pd.DataFrame(df_scaled, columns =df.columns)\n",
    "df_scaled.head(5)"
   ]
  },
  {
   "cell_type": "code",
   "execution_count": 159,
   "id": "a1f1cf19",
   "metadata": {},
   "outputs": [
    {
     "name": "stdout",
     "output_type": "stream",
     "text": [
      "(440, 440)\n"
     ]
    }
   ],
   "source": [
    "from sklearn.metrics.pairwise import euclidean_distances\n",
    "distance_matrix = euclidean_distances(df_scaled, df_scaled)\n",
    "print(distance_matrix.shape)"
   ]
  },
  {
   "cell_type": "code",
   "execution_count": 161,
   "id": "f4067ba1",
   "metadata": {},
   "outputs": [
    {
     "name": "stdout",
     "output_type": "stream",
     "text": [
      "1.4901161193847656e-08\n"
     ]
    }
   ],
   "source": [
    "print(distance_matrix[31,31])"
   ]
  },
  {
   "cell_type": "code",
   "execution_count": 148,
   "id": "5bd2738c",
   "metadata": {},
   "outputs": [],
   "source": [
    "distance_matrix = np.tril(distance_matrix)"
   ]
  },
  {
   "cell_type": "code",
   "execution_count": null,
   "id": "e7b15c28",
   "metadata": {},
   "outputs": [],
   "source": []
  },
  {
   "cell_type": "code",
   "execution_count": 149,
   "id": "6a259b7a",
   "metadata": {},
   "outputs": [],
   "source": [
    "distance_matrix[distance_matrix == 0] = np.inf"
   ]
  },
  {
   "cell_type": "code",
   "execution_count": 151,
   "id": "09678b49",
   "metadata": {},
   "outputs": [],
   "source": [
    " dist_df = pd.DataFrame(data=np.ones(df_scaled.shape[0])*np.inf)"
   ]
  },
  {
   "cell_type": "code",
   "execution_count": 154,
   "id": "772df3b1",
   "metadata": {},
   "outputs": [],
   "source": [
    "ij_min = np.unravel_index(distance_matrix.argmin(), distance_matrix.shape)"
   ]
  },
  {
   "cell_type": "code",
   "execution_count": 158,
   "id": "8600febf",
   "metadata": {},
   "outputs": [
    {
     "name": "stdout",
     "output_type": "stream",
     "text": [
      "(31, 31)\n"
     ]
    }
   ],
   "source": [
    "print(ij_min)"
   ]
  },
  {
   "cell_type": "code",
   "execution_count": null,
   "id": "9290eba2",
   "metadata": {},
   "outputs": [],
   "source": [
    "print(np)"
   ]
  },
  {
   "cell_type": "code",
   "execution_count": null,
   "id": "643a8f90",
   "metadata": {},
   "outputs": [],
   "source": []
  },
  {
   "cell_type": "code",
   "execution_count": 143,
   "id": "cbba97d2",
   "metadata": {},
   "outputs": [],
   "source": [
    "np.save(\"test.npy\",distance_matrix)"
   ]
  },
  {
   "cell_type": "code",
   "execution_count": 145,
   "id": "0d8eae90",
   "metadata": {},
   "outputs": [],
   "source": [
    "distance_matrix = np.tril(distance_matrix)\n",
    "np.save(\"Lower_matrix.npy\",distance_matrix)"
   ]
  },
  {
   "cell_type": "code",
   "execution_count": 144,
   "id": "b77dfb09",
   "metadata": {},
   "outputs": [
    {
     "name": "stdout",
     "output_type": "stream",
     "text": [
      "[[0.         0.34919509 0.54460229 ... 0.5516607  0.51848113 0.23819963]\n",
      " [0.34919509 0.         0.40689119 ... 0.35224331 0.79656571 0.34943207]\n",
      " [0.54460229 0.40689119 0.         ... 0.58618815 0.79868451 0.60671269]\n",
      " ...\n",
      " [0.5516607  0.35224331 0.58618815 ... 0.         0.91433676 0.43124728]\n",
      " [0.51848113 0.79656571 0.79868451 ... 0.91433676 0.         0.57755856]\n",
      " [0.23819963 0.34943207 0.60671269 ... 0.43124728 0.57755856 0.        ]]\n"
     ]
    }
   ],
   "source": [
    "with open('test.npy','rb') as f:\n",
    "    a = np.load(f)\n",
    "    print(a)"
   ]
  },
  {
   "cell_type": "code",
   "execution_count": 146,
   "id": "a5834e50",
   "metadata": {},
   "outputs": [
    {
     "name": "stdout",
     "output_type": "stream",
     "text": [
      "[[0.         0.         0.         ... 0.         0.         0.        ]\n",
      " [0.34919509 0.         0.         ... 0.         0.         0.        ]\n",
      " [0.54460229 0.40689119 0.         ... 0.         0.         0.        ]\n",
      " ...\n",
      " [0.5516607  0.35224331 0.58618815 ... 0.         0.         0.        ]\n",
      " [0.51848113 0.79656571 0.79868451 ... 0.91433676 0.         0.        ]\n",
      " [0.23819963 0.34943207 0.60671269 ... 0.43124728 0.57755856 0.        ]]\n"
     ]
    }
   ],
   "source": [
    "with open('Lower_matrix.npy','rb') as f:\n",
    "    a = np.load(f)\n",
    "    print(a)"
   ]
  },
  {
   "cell_type": "code",
   "execution_count": 130,
   "id": "623f6034",
   "metadata": {},
   "outputs": [],
   "source": [
    "distance_matrix = np.tril(distance_matrix)"
   ]
  },
  {
   "cell_type": "code",
   "execution_count": 138,
   "id": "7595f621",
   "metadata": {},
   "outputs": [
    {
     "name": "stdout",
     "output_type": "stream",
     "text": [
      "[[ 1  2  3]\n",
      " [ 2  4  6]\n",
      " [ 3  9 12]\n",
      " [ 3  9 12]]\n"
     ]
    }
   ],
   "source": [
    "s = np.array([[1,2,3],[2,4,6],[3,9,12],[3,9,12]])\n",
    "print(s)"
   ]
  },
  {
   "cell_type": "code",
   "execution_count": 139,
   "id": "b1d5074a",
   "metadata": {},
   "outputs": [
    {
     "name": "stdout",
     "output_type": "stream",
     "text": [
      "[[ 1  0  0]\n",
      " [ 2  4  0]\n",
      " [ 3  9 12]\n",
      " [ 3  9 12]]\n"
     ]
    }
   ],
   "source": [
    "print(np.tril(s))"
   ]
  },
  {
   "cell_type": "code",
   "execution_count": 137,
   "id": "562084c6",
   "metadata": {},
   "outputs": [
    {
     "data": {
      "text/plain": [
       "array([0., 0., 0., 0., 0., 0., 0., 0., 0., 0., 0., 0., 0., 0., 0., 0., 0.,\n",
       "       0., 0., 0., 0., 0., 0., 0., 0., 0., 0., 0., 0., 0., 0., 0., 0., 0.,\n",
       "       0., 0., 0., 0., 0., 0., 0., 0., 0., 0., 0., 0., 0., 0., 0., 0., 0.,\n",
       "       0., 0., 0., 0., 0., 0., 0., 0., 0., 0., 0., 0., 0., 0., 0., 0., 0.,\n",
       "       0., 0., 0., 0., 0., 0., 0., 0., 0., 0., 0., 0., 0., 0., 0., 0., 0.,\n",
       "       0., 0., 0., 0., 0., 0., 0., 0., 0., 0., 0., 0., 0., 0., 0., 0., 0.,\n",
       "       0., 0., 0., 0., 0., 0., 0., 0., 0., 0., 0., 0., 0., 0., 0., 0., 0.,\n",
       "       0., 0., 0., 0., 0., 0., 0., 0., 0., 0., 0., 0., 0., 0., 0., 0., 0.,\n",
       "       0., 0., 0., 0., 0., 0., 0., 0., 0., 0., 0., 0., 0., 0., 0., 0., 0.,\n",
       "       0., 0., 0., 0., 0., 0., 0., 0., 0., 0., 0., 0., 0., 0., 0., 0., 0.,\n",
       "       0., 0., 0., 0., 0., 0., 0., 0., 0., 0., 0., 0., 0., 0., 0., 0., 0.,\n",
       "       0., 0., 0., 0., 0., 0., 0., 0., 0., 0., 0., 0., 0., 0., 0., 0., 0.,\n",
       "       0., 0., 0., 0., 0., 0., 0., 0., 0., 0., 0., 0., 0., 0., 0., 0., 0.,\n",
       "       0., 0., 0., 0., 0., 0., 0., 0., 0., 0., 0., 0., 0., 0., 0., 0., 0.,\n",
       "       0., 0., 0., 0., 0., 0., 0., 0., 0., 0., 0., 0., 0., 0., 0., 0., 0.,\n",
       "       0., 0., 0., 0., 0., 0., 0., 0., 0., 0., 0., 0., 0., 0., 0., 0., 0.,\n",
       "       0., 0., 0., 0., 0., 0., 0., 0., 0., 0., 0., 0., 0., 0., 0., 0., 0.,\n",
       "       0., 0., 0., 0., 0., 0., 0., 0., 0., 0., 0., 0., 0., 0., 0., 0., 0.,\n",
       "       0., 0., 0., 0., 0., 0., 0., 0., 0., 0., 0., 0., 0., 0., 0., 0., 0.,\n",
       "       0., 0., 0., 0., 0., 0., 0., 0., 0., 0., 0., 0., 0., 0., 0., 0., 0.,\n",
       "       0., 0., 0., 0., 0., 0., 0., 0., 0., 0., 0., 0., 0., 0., 0., 0., 0.,\n",
       "       0., 0., 0., 0., 0., 0., 0., 0., 0., 0., 0., 0., 0., 0., 0., 0., 0.,\n",
       "       0., 0., 0., 0., 0., 0., 0., 0., 0., 0., 0., 0., 0., 0., 0., 0., 0.,\n",
       "       0., 0., 0., 0., 0., 0., 0., 0., 0., 0., 0., 0., 0., 0., 0., 0., 0.,\n",
       "       0., 0., 0., 0., 0., 0., 0., 0., 0., 0., 0., 0., 0., 0., 0., 0., 0.,\n",
       "       0., 0., 0., 0., 0., 0., 0., 0., 0., 0., 0., 0., 0., 0., 0.])"
      ]
     },
     "execution_count": 137,
     "metadata": {},
     "output_type": "execute_result"
    }
   ],
   "source": [
    "distance_matrix[1]"
   ]
  },
  {
   "cell_type": "code",
   "execution_count": null,
   "id": "f4bd2914",
   "metadata": {},
   "outputs": [],
   "source": [
    " distance_matrix = np.tril(distance_matrix)"
   ]
  },
  {
   "cell_type": "code",
   "execution_count": 19,
   "id": "2dd81a64",
   "metadata": {},
   "outputs": [],
   "source": [
    "import scipy.cluster.hierarchy as sch\n",
    "import matplotlib.pyplot as plt"
   ]
  },
  {
   "cell_type": "code",
   "execution_count": 26,
   "id": "3b2812ac",
   "metadata": {},
   "outputs": [
    {
     "data": {
      "image/png": "[encoded data removed]",
      "text/plain": [
       "<Figure size 432x288 with 1 Axes>"
      ]
     },
     "metadata": {
      "needs_background": "light"
     },
     "output_type": "display_data"
    },
    {
     "data": {
      "image/png": "[encoded data removed]",
      "text/plain": [
       "<Figure size 1080x1080 with 1 Axes>"
      ]
     },
     "metadata": {
      "needs_background": "light"
     },
     "output_type": "display_data"
    }
   ],
   "source": [
    "dendrogram = sch.dendrogram(sch.linkage(df_scaled, method  = \"ward\"))\n",
    "plt.axhline(y=8, color='r', linestyle='--')\n",
    "#plt.figure(figsize=(15,15))\n",
    "#plt.title(\"Dendrograms\")\n",
    "plt.show()"
   ]
  },
  {
   "cell_type": "code",
   "execution_count": 31,
   "id": "b7852752",
   "metadata": {},
   "outputs": [],
   "source": [
    "from sklearn.neighbors import kneighbors_graph\n",
    "connectivity = kneighbors_graph(df_scaled,n_neighbors = 10, include_self = False)"
   ]
  },
  {
   "cell_type": "code",
   "execution_count": 33,
   "id": "5da49273",
   "metadata": {},
   "outputs": [
    {
     "name": "stdout",
     "output_type": "stream",
     "text": [
      "(440, 440)\n"
     ]
    }
   ],
   "source": [
    "print(connectivity.shape)"
   ]
  },
  {
   "cell_type": "code",
   "execution_count": 83,
   "id": "6021c829",
   "metadata": {},
   "outputs": [],
   "source": [
    "class Distance_computation_grid():\n",
    "    '''\n",
    "        class to enable the Computation of distance matrix \n",
    "    '''\n",
    "    def __init__(self):\n",
    "        pass\n",
    "    \n",
    "    def compute_distance(self,samples):\n",
    "        '''\n",
    "            Creates a matrix of distances between individual samples and clusters attained at a particular step\n",
    "        '''\n",
    "        #print(\"inside compute distance\")\n",
    "        Distance_mat = np.zeros((len(samples),len(samples)))\n",
    "        samples = np.array(samples)\n",
    "        for i in range(Distance_mat.shape[0]):\n",
    "            for j in range(Distance_mat.shape[0]):\n",
    "                if i != j:\n",
    "                      Distance_mat[i,j] =np.linalg.norm(np.array(samples[i])-np.array(samples[j])) \n",
    "                else:\n",
    "                      Distance_mat[i,j]  = 1000000\n",
    "        Dist_mat = pd.DataFrame(Distance_mat)   \n",
    "        #print(\"Completed Dist mat\")\n",
    "        return Dist_mat\n",
    "    \n",
    "    "
   ]
  },
  {
   "cell_type": "code",
   "execution_count": null,
   "id": "341e9953",
   "metadata": {},
   "outputs": [],
   "source": []
  },
  {
   "cell_type": "code",
   "execution_count": null,
   "id": "acf22956",
   "metadata": {},
   "outputs": [],
   "source": []
  },
  {
   "cell_type": "code",
   "execution_count": 92,
   "id": "05ee79da",
   "metadata": {},
   "outputs": [
    {
     "name": "stdout",
     "output_type": "stream",
     "text": [
      "                0               1               2               3    \\\n",
      "0    1000000.000000        0.349195        0.544602        0.659729   \n",
      "1          0.349195  1000000.000000        0.406891        0.830510   \n",
      "2          0.544602        0.406891  1000000.000000        0.849872   \n",
      "3          0.659729        0.830510        0.849872  1000000.000000   \n",
      "4          0.451429        0.702896        0.708849        0.311084   \n",
      "..              ...             ...             ...             ...   \n",
      "435        0.431725        0.576295        0.688084        0.305822   \n",
      "436        0.727068        1.008357        1.030833        0.421631   \n",
      "437        0.551661        0.352243        0.586188        0.926019   \n",
      "438        0.518481        0.796566        0.798685        0.360862   \n",
      "439        0.238200        0.349432        0.606713        0.656540   \n",
      "\n",
      "                4         5         6         7         8         9    ...  \\\n",
      "0          0.451429  0.096904  0.354978  0.397419  0.291562  0.612552  ...   \n",
      "1          0.702896  0.346468  0.575508  0.300675  0.309878  0.331855  ...   \n",
      "2          0.708849  0.512712  0.715690  0.440605  0.539226  0.550872  ...   \n",
      "3          0.311084  0.675975  0.495338  0.689470  0.669365  0.995375  ...   \n",
      "4    1000000.000000  0.475982  0.323461  0.573706  0.523777  0.900847  ...   \n",
      "..              ...       ...       ...       ...       ...       ...  ...   \n",
      "435        0.322345  0.444375  0.394336  0.494493  0.448379  0.783978  ...   \n",
      "436        0.372897  0.748736  0.565014  0.900613  0.829126  1.190682  ...   \n",
      "437        0.820682  0.599796  0.589431  0.298763  0.345182  0.162040  ...   \n",
      "438        0.128056  0.540941  0.393942  0.680773  0.616595  0.995843  ...   \n",
      "439        0.499234  0.317494  0.296407  0.283654  0.119499  0.507987  ...   \n",
      "\n",
      "          430       431       432       433       434             435  \\\n",
      "0    0.814927  0.828073  0.598948  0.528842  0.376796        0.431725   \n",
      "1    0.609296  0.792380  0.883212  0.437856  0.636134        0.576295   \n",
      "2    0.743270  0.809613  0.954931  0.364222  0.756355        0.688084   \n",
      "3    1.042451  0.564322  0.433643  0.787446  0.440255        0.305822   \n",
      "4    0.988827  0.748994  0.302531  0.705669  0.247573        0.322345   \n",
      "..        ...       ...       ...       ...       ...             ...   \n",
      "435  0.861232  0.532153  0.511026  0.590238  0.361500  1000000.000000   \n",
      "436  1.253862  0.911865  0.236487  0.983809  0.471156        0.579922   \n",
      "437  0.474682  0.941534  0.932917  0.744302  0.687163        0.732392   \n",
      "438  1.068488  0.831142  0.239181  0.786154  0.297105        0.413713   \n",
      "439  0.640415  0.839712  0.607569  0.645441  0.345589        0.419827   \n",
      "\n",
      "                436             437             438             439  \n",
      "0          0.727068        0.551661        0.518481        0.238200  \n",
      "1          1.008357        0.352243        0.796566        0.349432  \n",
      "2          1.030833        0.586188        0.798685        0.606713  \n",
      "3          0.421631        0.926019        0.360862        0.656540  \n",
      "4          0.372897        0.820682        0.128056        0.499234  \n",
      "..              ...             ...             ...             ...  \n",
      "435        0.579922        0.732392        0.413713        0.419827  \n",
      "436  1000000.000000        1.100261        0.275987        0.780450  \n",
      "437        1.100261  1000000.000000        0.914337        0.431247  \n",
      "438        0.275987        0.914337  1000000.000000        0.577559  \n",
      "439        0.780450        0.431247        0.577559  1000000.000000  \n",
      "\n",
      "[440 rows x 440 columns]\n"
     ]
    }
   ],
   "source": [
    "obj = Distance_computation_grid()\n",
    "Dist_mat = obj.compute_distance(df_scaled)\n",
    "print(Dist_mat)\n",
    "\n",
    "Dist_mat['min'] = np.min(np.array(Dist_mat), axis = 0)"
   ]
  },
  {
   "cell_type": "code",
   "execution_count": 95,
   "id": "5f99a36c",
   "metadata": {},
   "outputs": [
    {
     "name": "stdout",
     "output_type": "stream",
     "text": [
      "          83        282       336       150       258       273       114  \\\n",
      "0    0.659865  0.657793  0.627960  0.617354  0.683300  0.684678  0.663859   \n",
      "1    0.944724  0.941793  0.925387  0.913580  0.969237  0.968440  0.939230   \n",
      "2    0.987611  0.988095  0.968166  0.954566  0.997710  1.000381  0.970607   \n",
      "3    0.388645  0.381617  0.434938  0.422945  0.408011  0.396631  0.347684   \n",
      "4    0.317520  0.317920  0.307484  0.290366  0.338169  0.339458  0.292346   \n",
      "..        ...       ...       ...       ...       ...       ...       ...   \n",
      "435  0.519610  0.511366  0.531071  0.517241  0.546400  0.537106  0.495603   \n",
      "436  0.082215  0.087375  0.123628  0.131419  0.049039  0.053371  0.096590   \n",
      "437  1.034607  1.034203  1.020317  1.009437  1.069224  1.070247  1.029991   \n",
      "438  0.230213  0.233275  0.203671  0.186578  0.242302  0.247123  0.207988   \n",
      "439  0.707459  0.705197  0.682767  0.670957  0.743431  0.742982  0.703496   \n",
      "\n",
      "          217       239       220  ...       275       204       338  \\\n",
      "0    0.646570  0.679043  0.670360  ...  0.708430  0.771260  1.266942   \n",
      "1    0.924918  0.961478  0.951357  ...  0.647150  0.612641  1.129359   \n",
      "2    0.960845  0.997928  0.988775  ...  0.634202  0.669209  1.131210   \n",
      "3    0.347596  0.391382  0.376831  ...  0.910330  0.833320  1.005824   \n",
      "4    0.282621  0.327227  0.314558  ...  0.874378  0.828533  1.209038   \n",
      "..        ...       ...       ...  ...       ...       ...       ...   \n",
      "435  0.483388  0.533301  0.516228  ...  0.743201  0.690936  1.006878   \n",
      "436  0.105177  0.064989  0.077677  ...  1.069037  1.107527  1.330784   \n",
      "437  1.020622  1.048461  1.041533  ...  0.945871  0.538382  1.157135   \n",
      "438  0.198377  0.236710  0.224616  ...  0.932706  0.919223  1.280994   \n",
      "439  0.690059  0.723683  0.712699  ...  0.847976  0.602781  1.207324   \n",
      "\n",
      "          257       263       71        183       174       358       228  \n",
      "0    0.657934  0.871879  0.699094  0.736172  0.971502  0.911810  1.003665  \n",
      "1    0.790761  0.682643  0.688289  0.696927  0.731644  0.778539  1.000164  \n",
      "2    0.804460  0.776933  0.574923  0.436401  0.747657  0.755523  1.002878  \n",
      "3    0.342716  0.843262  0.641960  0.756354  1.012999  1.203218  1.048302  \n",
      "4    0.448749  0.927076  0.580645  0.715821  1.056293  1.143474  1.028236  \n",
      "..        ...       ...       ...       ...       ...       ...       ...  \n",
      "435  0.447676  0.748573  0.612632  0.672548  0.880309  1.027842  1.073333  \n",
      "436  0.563224  1.165809  0.867761  0.968119  1.318459  1.327358  1.111396  \n",
      "437  0.874922  0.561082  0.648158  0.930660  0.680696  1.040465  0.900837  \n",
      "438  0.519407  1.033165  0.665853  0.783516  1.150123  1.193514  1.083742  \n",
      "439  0.709041  0.747333  0.603833  0.829083  0.844743  1.034511  1.042814  \n",
      "\n",
      "[440 rows x 440 columns]\n"
     ]
    }
   ],
   "source": [
    "\n",
    "min_dist = np.array(Dist_mat['min'])\n",
    "\n",
    "x = min_dist.argsort(axis =0)\n",
    "print(Dist_mat[x])\n"
   ]
  },
  {
   "cell_type": "code",
   "execution_count": 96,
   "id": "dc17f08e",
   "metadata": {},
   "outputs": [],
   "source": [
    "import numpy as np\n",
    "from sklearn.metrics import pairwise_distances_chunked\n",
    "X = np.random.RandomState(0).rand(5, 3)\n"
   ]
  },
  {
   "cell_type": "code",
   "execution_count": 97,
   "id": "58699877",
   "metadata": {},
   "outputs": [
    {
     "name": "stdout",
     "output_type": "stream",
     "text": [
      "[[0.5488135  0.71518937 0.60276338]\n",
      " [0.54488318 0.4236548  0.64589411]\n",
      " [0.43758721 0.891773   0.96366276]\n",
      " [0.38344152 0.79172504 0.52889492]\n",
      " [0.56804456 0.92559664 0.07103606]]\n"
     ]
    }
   ],
   "source": [
    "print(X)"
   ]
  },
  {
   "cell_type": "code",
   "execution_count": 109,
   "id": "8efd2cf6",
   "metadata": {},
   "outputs": [],
   "source": [
    "def reduce_func(D_chunk, start):\n",
    "    for i, d in enumerate(D_chunk, start):\n",
    "        print(i, \",\", d)"
   ]
  },
  {
   "cell_type": "code",
   "execution_count": 113,
   "id": "3b62dd9f",
   "metadata": {},
   "outputs": [
    {
     "name": "stdout",
     "output_type": "stream",
     "text": [
      "0 , [0.         0.29473397 0.41689499 0.19662693 0.57216693]\n",
      "1 , [0.29473397 0.         0.57586803 0.41860234 0.76350759]\n",
      "2 , [0.41689499 0.57586803 0.         0.44940452 0.90274337]\n",
      "3 , [0.19662693 0.41860234 0.44940452 0.         0.51150232]\n",
      "4 , [0.57216693 0.76350759 0.90274337 0.51150232 0.        ]\n"
     ]
    }
   ],
   "source": [
    "next(pairwise_distances_chunked(X, reduce_func=reduce_func))"
   ]
  },
  {
   "cell_type": "code",
   "execution_count": 112,
   "id": "128060e7",
   "metadata": {},
   "outputs": [
    {
     "ename": "StopIteration",
     "evalue": "",
     "output_type": "error",
     "traceback": [
      "\u001b[1;31m---------------------------------------------------------------------------\u001b[0m",
      "\u001b[1;31mStopIteration\u001b[0m                             Traceback (most recent call last)",
      "Input \u001b[1;32mIn [112]\u001b[0m, in \u001b[0;36m<cell line: 1>\u001b[1;34m()\u001b[0m\n\u001b[1;32m----> 1\u001b[0m \u001b[38;5;28mprint\u001b[39m(\u001b[38;5;28;43mnext\u001b[39;49m\u001b[43m(\u001b[49m\u001b[43mD_chunk\u001b[49m\u001b[43m)\u001b[49m)\n",
      "\u001b[1;31mStopIteration\u001b[0m: "
     ]
    }
   ],
   "source": [
    "print(next(D_chunk))"
   ]
  },
  {
   "cell_type": "code",
   "execution_count": 106,
   "id": "dfcc2981",
   "metadata": {},
   "outputs": [
    {
     "ename": "StopIteration",
     "evalue": "",
     "output_type": "error",
     "traceback": [
      "\u001b[1;31m---------------------------------------------------------------------------\u001b[0m",
      "\u001b[1;31mStopIteration\u001b[0m                             Traceback (most recent call last)",
      "Input \u001b[1;32mIn [106]\u001b[0m, in \u001b[0;36m<cell line: 1>\u001b[1;34m()\u001b[0m\n\u001b[1;32m----> 1\u001b[0m arr \u001b[38;5;241m=\u001b[39m \u001b[38;5;28;43mnext\u001b[39;49m\u001b[43m(\u001b[49m\u001b[43mD_chunk\u001b[49m\u001b[43m)\u001b[49m\n\u001b[0;32m      2\u001b[0m np\u001b[38;5;241m.\u001b[39mflatnonzero(arr)\n",
      "\u001b[1;31mStopIteration\u001b[0m: "
     ]
    }
   ],
   "source": []
  },
  {
   "cell_type": "code",
   "execution_count": null,
   "id": "94c30226",
   "metadata": {},
   "outputs": [],
   "source": []
  }
 ],
 "metadata": {
  "kernelspec": {
   "display_name": "Python 3 (ipykernel)",
   "language": "python",
   "name": "python3"
  },
  "language_info": {
   "codemirror_mode": {
    "name": "ipython",
    "version": 3
   },
   "file_extension": ".py",
   "mimetype": "text/x-python",
   "name": "python",
   "nbconvert_exporter": "python",
   "pygments_lexer": "ipython3",
   "version": "3.8.3"
  }
 },
 "nbformat": 4,
 "nbformat_minor": 5
}
